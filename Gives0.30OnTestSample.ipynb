{
 "cells": [
  {
   "cell_type": "markdown",
   "metadata": {
    "colab_type": "text",
    "collapsed": false,
    "id": "uqpo-u3SJ6BL"
   },
   "source": [
    "# Data"
   ]
  },
  {
   "cell_type": "markdown",
   "metadata": {
    "colab_type": "text",
    "collapsed": false,
    "id": "t8eHlqdVJ0oP"
   },
   "source": [
    "Let's have a look at the data first"
   ]
  },
  {
   "cell_type": "code",
   "execution_count": 1,
   "metadata": {
    "collapsed": false
   },
   "outputs": [
    {
     "name": "stdout",
     "output_type": "stream",
     "text": [
      "--2020-07-29 16:29:12--  https://codalab.coresearch.club/my/datasets/download/37304c34-1d4a-4f43-bcb2-1fdeb37c5cba\r\n",
      "Resolving codalab.coresearch.club (codalab.coresearch.club)... "
     ]
    },
    {
     "name": "stdout",
     "output_type": "stream",
     "text": [
      "51.116.181.68\r\n",
      "Connecting to codalab.coresearch.club (codalab.coresearch.club)|51.116.181.68|:443... "
     ]
    },
    {
     "name": "stdout",
     "output_type": "stream",
     "text": [
      "connected.\r\n"
     ]
    },
    {
     "name": "stdout",
     "output_type": "stream",
     "text": [
      "HTTP request sent, awaiting response... "
     ]
    },
    {
     "name": "stdout",
     "output_type": "stream",
     "text": [
      "302 FOUND\r\n",
      "Location: https://minio.coresearch.club:443/private/public_data/193/ca1cf/competition/98/1/data/public_data.zip [following]\r\n",
      "--2020-07-29 16:29:13--  https://minio.coresearch.club/private/public_data/193/ca1cf/competition/98/1/data/public_data.zip\r\n",
      "Resolving minio.coresearch.club (minio.coresearch.club)... "
     ]
    },
    {
     "name": "stdout",
     "output_type": "stream",
     "text": [
      "51.116.181.68\r\n",
      "Connecting to minio.coresearch.club (minio.coresearch.club)|51.116.181.68|:443... "
     ]
    },
    {
     "name": "stdout",
     "output_type": "stream",
     "text": [
      "connected.\r\n"
     ]
    },
    {
     "name": "stdout",
     "output_type": "stream",
     "text": [
      "HTTP request sent, awaiting response... "
     ]
    },
    {
     "name": "stdout",
     "output_type": "stream",
     "text": [
      "200 OK\r\n",
      "Length: 23166579 (22M) [application/zip]\r\n",
      "Saving to: ‘input_public_data.zip’\r\n",
      "\r\n",
      "\rinput_public_data.z   0%[                    ]       0  --.-KB/s               "
     ]
    },
    {
     "name": "stdout",
     "output_type": "stream",
     "text": [
      "\rinput_public_data.z   0%[                    ]  43.38K   174KB/s               "
     ]
    },
    {
     "name": "stdout",
     "output_type": "stream",
     "text": [
      "\rinput_public_data.z   0%[                    ] 131.38K   280KB/s               "
     ]
    },
    {
     "name": "stdout",
     "output_type": "stream",
     "text": [
      "\rinput_public_data.z   0%[                    ] 163.38K   234KB/s               "
     ]
    },
    {
     "name": "stdout",
     "output_type": "stream",
     "text": [
      "\rinput_public_data.z   0%[                    ] 211.38K   227KB/s               "
     ]
    },
    {
     "name": "stdout",
     "output_type": "stream",
     "text": [
      "\rinput_public_data.z   1%[                    ] 259.38K   224KB/s               "
     ]
    },
    {
     "name": "stdout",
     "output_type": "stream",
     "text": [
      "\rinput_public_data.z   1%[                    ] 291.38K   209KB/s               "
     ]
    },
    {
     "name": "stdout",
     "output_type": "stream",
     "text": [
      "\rinput_public_data.z   1%[                    ] 355.38K   219KB/s               "
     ]
    },
    {
     "name": "stdout",
     "output_type": "stream",
     "text": [
      "\rinput_public_data.z   1%[                    ] 403.38K   218KB/s               "
     ]
    },
    {
     "name": "stdout",
     "output_type": "stream",
     "text": [
      "\rinput_public_data.z   1%[                    ] 451.38K   217KB/s               "
     ]
    },
    {
     "name": "stdout",
     "output_type": "stream",
     "text": [
      "\rinput_public_data.z   2%[                    ] 515.38K   222KB/s               "
     ]
    },
    {
     "name": "stdout",
     "output_type": "stream",
     "text": [
      "\rinput_public_data.z   2%[                    ] 563.38K   220KB/s               "
     ]
    },
    {
     "name": "stdout",
     "output_type": "stream",
     "text": [
      "\rinput_public_data.z   2%[                    ] 595.38K   214KB/s               "
     ]
    },
    {
     "name": "stdout",
     "output_type": "stream",
     "text": [
      "\rinput_public_data.z   2%[                    ] 627.38K   208KB/s    eta 1m 46s "
     ]
    },
    {
     "name": "stdout",
     "output_type": "stream",
     "text": [
      "\rinput_public_data.z   2%[                    ] 675.38K   208KB/s    eta 1m 46s "
     ]
    },
    {
     "name": "stdout",
     "output_type": "stream",
     "text": [
      "\rinput_public_data.z   3%[                    ] 707.38K   203KB/s    eta 1m 46s "
     ]
    },
    {
     "name": "stdout",
     "output_type": "stream",
     "text": [
      "\rinput_public_data.z   3%[                    ] 755.38K   204KB/s    eta 1m 46s "
     ]
    },
    {
     "name": "stdout",
     "output_type": "stream",
     "text": [
      "\rinput_public_data.z   3%[                    ] 803.38K   204KB/s    eta 1m 46s "
     ]
    },
    {
     "name": "stdout",
     "output_type": "stream",
     "text": [
      "\rinput_public_data.z   3%[                    ] 835.38K   200KB/s    eta 1m 49s "
     ]
    },
    {
     "name": "stdout",
     "output_type": "stream",
     "text": [
      "\rinput_public_data.z   3%[                    ] 867.38K   197KB/s    eta 1m 49s "
     ]
    },
    {
     "name": "stdout",
     "output_type": "stream",
     "text": [
      "\rinput_public_data.z   3%[                    ] 899.38K   194KB/s    eta 1m 49s "
     ]
    },
    {
     "name": "stdout",
     "output_type": "stream",
     "text": [
      "\rinput_public_data.z   4%[                    ] 931.38K   193KB/s    eta 1m 49s "
     ]
    },
    {
     "name": "stdout",
     "output_type": "stream",
     "text": [
      "\rinput_public_data.z   4%[                    ] 979.38K   183KB/s    eta 1m 49s "
     ]
    },
    {
     "name": "stdout",
     "output_type": "stream",
     "text": [
      "\rinput_public_data.z   4%[                    ]   1011K   183KB/s    eta 1m 54s "
     ]
    },
    {
     "name": "stdout",
     "output_type": "stream",
     "text": [
      "\rinput_public_data.z   4%[                    ]   1.03M   183KB/s    eta 1m 54s "
     ]
    },
    {
     "name": "stdout",
     "output_type": "stream",
     "text": [
      "\rinput_public_data.z   4%[                    ]   1.08M   183KB/s    eta 1m 54s "
     ]
    },
    {
     "name": "stdout",
     "output_type": "stream",
     "text": [
      "\rinput_public_data.z   5%[>                   ]   1.14M   190KB/s    eta 1m 54s "
     ]
    },
    {
     "name": "stdout",
     "output_type": "stream",
     "text": [
      "\rinput_public_data.z   5%[>                   ]   1.19M   187KB/s    eta 1m 54s "
     ]
    },
    {
     "name": "stdout",
     "output_type": "stream",
     "text": [
      "\rinput_public_data.z   5%[>                   ]   1.24M   187KB/s    eta 1m 49s "
     ]
    },
    {
     "name": "stdout",
     "output_type": "stream",
     "text": [
      "\rinput_public_data.z   5%[>                   ]   1.30M   190KB/s    eta 1m 49s "
     ]
    },
    {
     "name": "stdout",
     "output_type": "stream",
     "text": [
      "\rinput_public_data.z   6%[>                   ]   1.36M   191KB/s    eta 1m 49s "
     ]
    },
    {
     "name": "stdout",
     "output_type": "stream",
     "text": [
      "\rinput_public_data.z   6%[>                   ]   1.42M   194KB/s    eta 1m 49s "
     ]
    },
    {
     "name": "stdout",
     "output_type": "stream",
     "text": [
      "\rinput_public_data.z   6%[>                   ]   1.49M   201KB/s    eta 1m 49s "
     ]
    },
    {
     "name": "stdout",
     "output_type": "stream",
     "text": [
      "\rinput_public_data.z   7%[>                   ]   1.55M   208KB/s    eta 1m 41s "
     ]
    },
    {
     "name": "stdout",
     "output_type": "stream",
     "text": [
      "\rinput_public_data.z   7%[>                   ]   1.61M   212KB/s    eta 1m 41s "
     ]
    },
    {
     "name": "stdout",
     "output_type": "stream",
     "text": [
      "\rinput_public_data.z   7%[>                   ]   1.67M   219KB/s    eta 1m 41s "
     ]
    },
    {
     "name": "stdout",
     "output_type": "stream",
     "text": [
      "\rinput_public_data.z   7%[>                   ]   1.75M   225KB/s    eta 1m 41s "
     ]
    },
    {
     "name": "stdout",
     "output_type": "stream",
     "text": [
      "\rinput_public_data.z   8%[>                   ]   1.83M   232KB/s    eta 1m 41s "
     ]
    },
    {
     "name": "stdout",
     "output_type": "stream",
     "text": [
      "\rinput_public_data.z   8%[>                   ]   1.91M   243KB/s    eta 93s    "
     ]
    },
    {
     "name": "stdout",
     "output_type": "stream",
     "text": [
      "\rinput_public_data.z   8%[>                   ]   1.94M   243KB/s    eta 93s    "
     ]
    },
    {
     "name": "stdout",
     "output_type": "stream",
     "text": [
      "\rinput_public_data.z   8%[>                   ]   1.99M   246KB/s    eta 93s    "
     ]
    },
    {
     "name": "stdout",
     "output_type": "stream",
     "text": [
      "\rinput_public_data.z   9%[>                   ]   2.03M   250KB/s    eta 93s    "
     ]
    },
    {
     "name": "stdout",
     "output_type": "stream",
     "text": [
      "\rinput_public_data.z   9%[>                   ]   2.08M   250KB/s    eta 93s    "
     ]
    },
    {
     "name": "stdout",
     "output_type": "stream",
     "text": [
      "\rinput_public_data.z   9%[>                   ]   2.14M   257KB/s    eta 92s    "
     ]
    },
    {
     "name": "stdout",
     "output_type": "stream",
     "text": [
      "\rinput_public_data.z   9%[>                   ]   2.19M   257KB/s    eta 92s    "
     ]
    },
    {
     "name": "stdout",
     "output_type": "stream",
     "text": [
      "\rinput_public_data.z  10%[=>                  ]   2.24M   257KB/s    eta 92s    "
     ]
    },
    {
     "name": "stdout",
     "output_type": "stream",
     "text": [
      "\rinput_public_data.z  10%[=>                  ]   2.30M   257KB/s    eta 92s    "
     ]
    },
    {
     "name": "stdout",
     "output_type": "stream",
     "text": [
      "\rinput_public_data.z  10%[=>                  ]   2.36M   260KB/s    eta 92s    "
     ]
    },
    {
     "name": "stdout",
     "output_type": "stream",
     "text": [
      "\rinput_public_data.z  10%[=>                  ]   2.42M   264KB/s    eta 90s    "
     ]
    },
    {
     "name": "stdout",
     "output_type": "stream",
     "text": [
      "\rinput_public_data.z  11%[=>                  ]   2.46M   257KB/s    eta 90s    "
     ]
    },
    {
     "name": "stdout",
     "output_type": "stream",
     "text": [
      "\rinput_public_data.z  11%[=>                  ]   2.49M   250KB/s    eta 90s    "
     ]
    },
    {
     "name": "stdout",
     "output_type": "stream",
     "text": [
      "\rinput_public_data.z  11%[=>                  ]   2.53M   246KB/s    eta 90s    "
     ]
    },
    {
     "name": "stdout",
     "output_type": "stream",
     "text": [
      "\rinput_public_data.z  11%[=>                  ]   2.57M   239KB/s    eta 90s    "
     ]
    },
    {
     "name": "stdout",
     "output_type": "stream",
     "text": [
      "\rinput_public_data.z  11%[=>                  ]   2.61M   236KB/s    eta 91s    "
     ]
    },
    {
     "name": "stdout",
     "output_type": "stream",
     "text": [
      "\rinput_public_data.z  12%[=>                  ]   2.66M   232KB/s    eta 91s    "
     ]
    },
    {
     "name": "stdout",
     "output_type": "stream",
     "text": [
      "\rinput_public_data.z  12%[=>                  ]   2.71M   229KB/s    eta 91s    "
     ]
    },
    {
     "name": "stdout",
     "output_type": "stream",
     "text": [
      "\rinput_public_data.z  12%[=>                  ]   2.75M   222KB/s    eta 91s    "
     ]
    },
    {
     "name": "stdout",
     "output_type": "stream",
     "text": [
      "\rinput_public_data.z  12%[=>                  ]   2.82M   218KB/s    eta 91s    "
     ]
    },
    {
     "name": "stdout",
     "output_type": "stream",
     "text": [
      "\rinput_public_data.z  12%[=>                  ]   2.86M   212KB/s    eta 90s    "
     ]
    },
    {
     "name": "stdout",
     "output_type": "stream",
     "text": [
      "\rinput_public_data.z  13%[=>                  ]   2.92M   218KB/s    eta 90s    "
     ]
    },
    {
     "name": "stdout",
     "output_type": "stream",
     "text": [
      "\rinput_public_data.z  13%[=>                  ]   2.96M   215KB/s    eta 90s    "
     ]
    },
    {
     "name": "stdout",
     "output_type": "stream",
     "text": [
      "\rinput_public_data.z  13%[=>                  ]   2.99M   212KB/s    eta 90s    "
     ]
    },
    {
     "name": "stdout",
     "output_type": "stream",
     "text": [
      "\rinput_public_data.z  13%[=>                  ]   3.03M   212KB/s    eta 90s    "
     ]
    },
    {
     "name": "stdout",
     "output_type": "stream",
     "text": [
      "\rinput_public_data.z  13%[=>                  ]   3.07M   205KB/s    eta 90s    "
     ]
    },
    {
     "name": "stdout",
     "output_type": "stream",
     "text": [
      "\rinput_public_data.z  14%[=>                  ]   3.11M   205KB/s    eta 90s    "
     ]
    },
    {
     "name": "stdout",
     "output_type": "stream",
     "text": [
      "\rinput_public_data.z  14%[=>                  ]   3.16M   205KB/s    eta 90s    "
     ]
    },
    {
     "name": "stdout",
     "output_type": "stream",
     "text": [
      "\rinput_public_data.z  14%[=>                  ]   3.21M   201KB/s    eta 90s    "
     ]
    },
    {
     "name": "stdout",
     "output_type": "stream",
     "text": [
      "\rinput_public_data.z  14%[=>                  ]   3.25M   198KB/s    eta 90s    "
     ]
    },
    {
     "name": "stdout",
     "output_type": "stream",
     "text": [
      "\rinput_public_data.z  14%[=>                  ]   3.30M   194KB/s    eta 89s    "
     ]
    },
    {
     "name": "stdout",
     "output_type": "stream",
     "text": [
      "\rinput_public_data.z  15%[==>                 ]   3.36M   201KB/s    eta 89s    "
     ]
    },
    {
     "name": "stdout",
     "output_type": "stream",
     "text": [
      "\rinput_public_data.z  15%[==>                 ]   3.42M   208KB/s    eta 89s    "
     ]
    },
    {
     "name": "stdout",
     "output_type": "stream",
     "text": [
      "\rinput_public_data.z  15%[==>                 ]   3.49M   212KB/s    eta 89s    "
     ]
    },
    {
     "name": "stdout",
     "output_type": "stream",
     "text": [
      "\rinput_public_data.z  16%[==>                 ]   3.55M   219KB/s    eta 89s    "
     ]
    },
    {
     "name": "stdout",
     "output_type": "stream",
     "text": [
      "\rinput_public_data.z  16%[==>                 ]   3.61M   222KB/s    eta 86s    "
     ]
    },
    {
     "name": "stdout",
     "output_type": "stream",
     "text": [
      "\rinput_public_data.z  16%[==>                 ]   3.67M   225KB/s    eta 86s    "
     ]
    },
    {
     "name": "stdout",
     "output_type": "stream",
     "text": [
      "\rinput_public_data.z  16%[==>                 ]   3.75M   232KB/s    eta 86s    "
     ]
    },
    {
     "name": "stdout",
     "output_type": "stream",
     "text": [
      "\rinput_public_data.z  17%[==>                 ]   3.83M   239KB/s    eta 86s    "
     ]
    },
    {
     "name": "stdout",
     "output_type": "stream",
     "text": [
      "\rinput_public_data.z  17%[==>                 ]   3.89M   239KB/s    eta 86s    "
     ]
    },
    {
     "name": "stdout",
     "output_type": "stream",
     "text": [
      "\rinput_public_data.z  17%[==>                 ]   3.97M   246KB/s    eta 82s    "
     ]
    },
    {
     "name": "stdout",
     "output_type": "stream",
     "text": [
      "\rinput_public_data.z  18%[==>                 ]   4.04M   246KB/s    eta 82s    "
     ]
    },
    {
     "name": "stdout",
     "output_type": "stream",
     "text": [
      "\rinput_public_data.z  18%[==>                 ]   4.08M   249KB/s    eta 82s    "
     ]
    },
    {
     "name": "stdout",
     "output_type": "stream",
     "text": [
      "\rinput_public_data.z  18%[==>                 ]   4.13M   252KB/s    eta 82s    "
     ]
    },
    {
     "name": "stdout",
     "output_type": "stream",
     "text": [
      "\rinput_public_data.z  18%[==>                 ]   4.18M   253KB/s    eta 82s    "
     ]
    },
    {
     "name": "stdout",
     "output_type": "stream",
     "text": [
      "\rinput_public_data.z  19%[==>                 ]   4.22M   256KB/s    eta 81s    "
     ]
    },
    {
     "name": "stdout",
     "output_type": "stream",
     "text": [
      "\rinput_public_data.z  19%[==>                 ]   4.27M   256KB/s    eta 81s    "
     ]
    },
    {
     "name": "stdout",
     "output_type": "stream",
     "text": [
      "\rinput_public_data.z  19%[==>                 ]   4.33M   259KB/s    eta 81s    "
     ]
    },
    {
     "name": "stdout",
     "output_type": "stream",
     "text": [
      "\rinput_public_data.z  19%[==>                 ]   4.38M   259KB/s    eta 81s    "
     ]
    },
    {
     "name": "stdout",
     "output_type": "stream",
     "text": [
      "\rinput_public_data.z  20%[===>                ]   4.44M   263KB/s    eta 81s    "
     ]
    },
    {
     "name": "stdout",
     "output_type": "stream",
     "text": [
      "\rinput_public_data.z  20%[===>                ]   4.50M   266KB/s    eta 79s    "
     ]
    },
    {
     "name": "stdout",
     "output_type": "stream",
     "text": [
      "\rinput_public_data.z  20%[===>                ]   4.57M   266KB/s    eta 79s    "
     ]
    },
    {
     "name": "stdout",
     "output_type": "stream",
     "text": [
      "\rinput_public_data.z  20%[===>                ]   4.63M   266KB/s    eta 79s    "
     ]
    },
    {
     "name": "stdout",
     "output_type": "stream",
     "text": [
      "\rinput_public_data.z  21%[===>                ]   4.69M   266KB/s    eta 79s    "
     ]
    },
    {
     "name": "stdout",
     "output_type": "stream",
     "text": [
      "\rinput_public_data.z  21%[===>                ]   4.75M   266KB/s    eta 79s    "
     ]
    },
    {
     "name": "stdout",
     "output_type": "stream",
     "text": [
      "\rinput_public_data.z  21%[===>                ]   4.82M   266KB/s    eta 77s    "
     ]
    },
    {
     "name": "stdout",
     "output_type": "stream",
     "text": [
      "\rinput_public_data.z  22%[===>                ]   4.89M   270KB/s    eta 77s    "
     ]
    },
    {
     "name": "stdout",
     "output_type": "stream",
     "text": [
      "\rinput_public_data.z  22%[===>                ]   4.96M   266KB/s    eta 77s    "
     ]
    },
    {
     "name": "stdout",
     "output_type": "stream",
     "text": [
      "\rinput_public_data.z  22%[===>                ]   5.00M   259KB/s    eta 77s    "
     ]
    },
    {
     "name": "stdout",
     "output_type": "stream",
     "text": [
      "\rinput_public_data.z  22%[===>                ]   5.04M   252KB/s    eta 77s    "
     ]
    },
    {
     "name": "stdout",
     "output_type": "stream",
     "text": [
      "\rinput_public_data.z  23%[===>                ]   5.08M   245KB/s    eta 76s    "
     ]
    },
    {
     "name": "stdout",
     "output_type": "stream",
     "text": [
      "\rinput_public_data.z  23%[===>                ]   5.13M   243KB/s    eta 76s    "
     ]
    },
    {
     "name": "stdout",
     "output_type": "stream",
     "text": [
      "\rinput_public_data.z  23%[===>                ]   5.16M   239KB/s    eta 76s    "
     ]
    },
    {
     "name": "stdout",
     "output_type": "stream",
     "text": [
      "\rinput_public_data.z  23%[===>                ]   5.19M   236KB/s    eta 76s    "
     ]
    },
    {
     "name": "stdout",
     "output_type": "stream",
     "text": [
      "\rinput_public_data.z  23%[===>                ]   5.22M   232KB/s    eta 76s    "
     ]
    },
    {
     "name": "stdout",
     "output_type": "stream",
     "text": [
      "\rinput_public_data.z  23%[===>                ]   5.25M   229KB/s    eta 76s    "
     ]
    },
    {
     "name": "stdout",
     "output_type": "stream",
     "text": [
      "\rinput_public_data.z  23%[===>                ]   5.30M   229KB/s    eta 76s    "
     ]
    },
    {
     "name": "stdout",
     "output_type": "stream",
     "text": [
      "\rinput_public_data.z  24%[===>                ]   5.35M   225KB/s    eta 76s    "
     ]
    },
    {
     "name": "stdout",
     "output_type": "stream",
     "text": [
      "\rinput_public_data.z  24%[===>                ]   5.39M   225KB/s    eta 76s    "
     ]
    },
    {
     "name": "stdout",
     "output_type": "stream",
     "text": [
      "\rinput_public_data.z  24%[===>                ]   5.44M   222KB/s    eta 76s    "
     ]
    },
    {
     "name": "stdout",
     "output_type": "stream",
     "text": [
      "\rinput_public_data.z  24%[===>                ]   5.49M   219KB/s    eta 75s    "
     ]
    },
    {
     "name": "stdout",
     "output_type": "stream",
     "text": [
      "\rinput_public_data.z  25%[====>               ]   5.54M   215KB/s    eta 75s    "
     ]
    },
    {
     "name": "stdout",
     "output_type": "stream",
     "text": [
      "\rinput_public_data.z  25%[====>               ]   5.60M   215KB/s    eta 75s    "
     ]
    },
    {
     "name": "stdout",
     "output_type": "stream",
     "text": [
      "\rinput_public_data.z  25%[====>               ]   5.66M   210KB/s    eta 75s    "
     ]
    },
    {
     "name": "stdout",
     "output_type": "stream",
     "text": [
      "\rinput_public_data.z  25%[====>               ]   5.69M   203KB/s    eta 75s    "
     ]
    },
    {
     "name": "stdout",
     "output_type": "stream",
     "text": [
      "\rinput_public_data.z  25%[====>               ]   5.72M   196KB/s    eta 75s    "
     ]
    },
    {
     "name": "stdout",
     "output_type": "stream",
     "text": [
      "\rinput_public_data.z  26%[====>               ]   5.75M   186KB/s    eta 75s    "
     ]
    },
    {
     "name": "stdout",
     "output_type": "stream",
     "text": [
      "\rinput_public_data.z  26%[====>               ]   5.80M   183KB/s    eta 75s    "
     ]
    },
    {
     "name": "stdout",
     "output_type": "stream",
     "text": [
      "\rinput_public_data.z  26%[====>               ]   5.83M   179KB/s    eta 75s    "
     ]
    },
    {
     "name": "stdout",
     "output_type": "stream",
     "text": [
      "\rinput_public_data.z  26%[====>               ]   5.88M   183KB/s    eta 75s    "
     ]
    },
    {
     "name": "stdout",
     "output_type": "stream",
     "text": [
      "\rinput_public_data.z  26%[====>               ]   5.93M   183KB/s    eta 75s    "
     ]
    },
    {
     "name": "stdout",
     "output_type": "stream",
     "text": [
      "\rinput_public_data.z  27%[====>               ]   5.99M   186KB/s    eta 75s    "
     ]
    },
    {
     "name": "stdout",
     "output_type": "stream",
     "text": [
      "\rinput_public_data.z  27%[====>               ]   6.04M   190KB/s    eta 75s    "
     ]
    },
    {
     "name": "stdout",
     "output_type": "stream",
     "text": [
      "\rinput_public_data.z  27%[====>               ]   6.08M   193KB/s    eta 75s    "
     ]
    },
    {
     "name": "stdout",
     "output_type": "stream",
     "text": [
      "\rinput_public_data.z  27%[====>               ]   6.14M   200KB/s    eta 73s    "
     ]
    },
    {
     "name": "stdout",
     "output_type": "stream",
     "text": [
      "\rinput_public_data.z  28%[====>               ]   6.21M   206KB/s    eta 73s    "
     ]
    },
    {
     "name": "stdout",
     "output_type": "stream",
     "text": [
      "\rinput_public_data.z  28%[====>               ]   6.25M   206KB/s    eta 73s    "
     ]
    },
    {
     "name": "stdout",
     "output_type": "stream",
     "text": [
      "\rinput_public_data.z  28%[====>               ]   6.32M   210KB/s    eta 73s    "
     ]
    },
    {
     "name": "stdout",
     "output_type": "stream",
     "text": [
      "\rinput_public_data.z  28%[====>               ]   6.35M   206KB/s    eta 73s    "
     ]
    },
    {
     "name": "stdout",
     "output_type": "stream",
     "text": [
      "\rinput_public_data.z  28%[====>               ]   6.39M   206KB/s    eta 72s    "
     ]
    },
    {
     "name": "stdout",
     "output_type": "stream",
     "text": [
      "\rinput_public_data.z  29%[====>               ]   6.43M   203KB/s    eta 72s    "
     ]
    },
    {
     "name": "stdout",
     "output_type": "stream",
     "text": [
      "\rinput_public_data.z  29%[====>               ]   6.47M   203KB/s    eta 72s    "
     ]
    },
    {
     "name": "stdout",
     "output_type": "stream",
     "text": [
      "\rinput_public_data.z  29%[====>               ]   6.52M   200KB/s    eta 72s    "
     ]
    },
    {
     "name": "stdout",
     "output_type": "stream",
     "text": [
      "\rinput_public_data.z  29%[====>               ]   6.57M   201KB/s    eta 72s    "
     ]
    },
    {
     "name": "stdout",
     "output_type": "stream",
     "text": [
      "\rinput_public_data.z  29%[====>               ]   6.61M   205KB/s    eta 72s    "
     ]
    },
    {
     "name": "stdout",
     "output_type": "stream",
     "text": [
      "\rinput_public_data.z  30%[=====>              ]   6.66M   208KB/s    eta 72s    "
     ]
    },
    {
     "name": "stdout",
     "output_type": "stream",
     "text": [
      "\rinput_public_data.z  30%[=====>              ]   6.72M   215KB/s    eta 72s    "
     ]
    },
    {
     "name": "stdout",
     "output_type": "stream",
     "text": [
      "\rinput_public_data.z  30%[=====>              ]   6.77M   215KB/s    eta 72s    "
     ]
    },
    {
     "name": "stdout",
     "output_type": "stream",
     "text": [
      "\rinput_public_data.z  30%[=====>              ]   6.83M   222KB/s    eta 72s    "
     ]
    },
    {
     "name": "stdout",
     "output_type": "stream",
     "text": [
      "\rinput_public_data.z  31%[=====>              ]   6.88M   222KB/s    eta 70s    "
     ]
    },
    {
     "name": "stdout",
     "output_type": "stream",
     "text": [
      "\rinput_public_data.z  31%[=====>              ]   6.91M   219KB/s    eta 70s    "
     ]
    },
    {
     "name": "stdout",
     "output_type": "stream",
     "text": [
      "\rinput_public_data.z  31%[=====>              ]   6.94M   212KB/s    eta 70s    "
     ]
    },
    {
     "name": "stdout",
     "output_type": "stream",
     "text": [
      "\rinput_public_data.z  31%[=====>              ]   6.99M   211KB/s    eta 70s    "
     ]
    },
    {
     "name": "stdout",
     "output_type": "stream",
     "text": [
      "\rinput_public_data.z  31%[=====>              ]   7.04M   211KB/s    eta 70s    "
     ]
    },
    {
     "name": "stdout",
     "output_type": "stream",
     "text": [
      "\rinput_public_data.z  31%[=====>              ]   7.07M   204KB/s    eta 70s    "
     ]
    },
    {
     "name": "stdout",
     "output_type": "stream",
     "text": [
      "\rinput_public_data.z  32%[=====>              ]   7.13M   204KB/s    eta 70s    "
     ]
    },
    {
     "name": "stdout",
     "output_type": "stream",
     "text": [
      "\rinput_public_data.z  32%[=====>              ]   7.18M   204KB/s    eta 70s    "
     ]
    },
    {
     "name": "stdout",
     "output_type": "stream",
     "text": [
      "\rinput_public_data.z  32%[=====>              ]   7.22M   201KB/s    eta 70s    "
     ]
    },
    {
     "name": "stdout",
     "output_type": "stream",
     "text": [
      "\rinput_public_data.z  32%[=====>              ]   7.29M   208KB/s    eta 70s    "
     ]
    },
    {
     "name": "stdout",
     "output_type": "stream",
     "text": [
      "\rinput_public_data.z  33%[=====>              ]   7.35M   211KB/s    eta 68s    "
     ]
    },
    {
     "name": "stdout",
     "output_type": "stream",
     "text": [
      "\rinput_public_data.z  33%[=====>              ]   7.39M   215KB/s    eta 68s    "
     ]
    },
    {
     "name": "stdout",
     "output_type": "stream",
     "text": [
      "\rinput_public_data.z  33%[=====>              ]   7.43M   211KB/s    eta 68s    "
     ]
    },
    {
     "name": "stdout",
     "output_type": "stream",
     "text": [
      "\rinput_public_data.z  33%[=====>              ]   7.46M   208KB/s    eta 68s    "
     ]
    },
    {
     "name": "stdout",
     "output_type": "stream",
     "text": [
      "\rinput_public_data.z  33%[=====>              ]   7.50M   208KB/s    eta 68s    "
     ]
    },
    {
     "name": "stdout",
     "output_type": "stream",
     "text": [
      "\rinput_public_data.z  34%[=====>              ]   7.54M   204KB/s    eta 68s    "
     ]
    },
    {
     "name": "stdout",
     "output_type": "stream",
     "text": [
      "\rinput_public_data.z  34%[=====>              ]   7.58M   204KB/s    eta 68s    "
     ]
    },
    {
     "name": "stdout",
     "output_type": "stream",
     "text": [
      "\rinput_public_data.z  34%[=====>              ]   7.63M   201KB/s    eta 68s    "
     ]
    },
    {
     "name": "stdout",
     "output_type": "stream",
     "text": [
      "\rinput_public_data.z  34%[=====>              ]   7.68M   201KB/s    eta 68s    "
     ]
    },
    {
     "name": "stdout",
     "output_type": "stream",
     "text": [
      "\rinput_public_data.z  34%[=====>              ]   7.71M   194KB/s    eta 68s    "
     ]
    },
    {
     "name": "stdout",
     "output_type": "stream",
     "text": [
      "\rinput_public_data.z  35%[======>             ]   7.74M   191KB/s    eta 67s    "
     ]
    },
    {
     "name": "stdout",
     "output_type": "stream",
     "text": [
      "\rinput_public_data.z  35%[======>             ]   7.77M   191KB/s    eta 67s    "
     ]
    },
    {
     "name": "stdout",
     "output_type": "stream",
     "text": [
      "\rinput_public_data.z  35%[======>             ]   7.82M   194KB/s    eta 67s    "
     ]
    },
    {
     "name": "stdout",
     "output_type": "stream",
     "text": [
      "\rinput_public_data.z  35%[======>             ]   7.85M   191KB/s    eta 67s    "
     ]
    },
    {
     "name": "stdout",
     "output_type": "stream",
     "text": [
      "\rinput_public_data.z  35%[======>             ]   7.89M   191KB/s    eta 67s    "
     ]
    },
    {
     "name": "stdout",
     "output_type": "stream",
     "text": [
      "\rinput_public_data.z  35%[======>             ]   7.94M   194KB/s    eta 67s    "
     ]
    },
    {
     "name": "stdout",
     "output_type": "stream",
     "text": [
      "\rinput_public_data.z  36%[======>             ]   7.99M   191KB/s    eta 67s    "
     ]
    },
    {
     "name": "stdout",
     "output_type": "stream",
     "text": [
      "\rinput_public_data.z  36%[======>             ]   8.02M   187KB/s    eta 67s    "
     ]
    },
    {
     "name": "stdout",
     "output_type": "stream",
     "text": [
      "\rinput_public_data.z  36%[======>             ]   8.08M   190KB/s    eta 67s    "
     ]
    },
    {
     "name": "stdout",
     "output_type": "stream",
     "text": [
      "\rinput_public_data.z  36%[======>             ]   8.13M   187KB/s    eta 67s    "
     ]
    },
    {
     "name": "stdout",
     "output_type": "stream",
     "text": [
      "\rinput_public_data.z  37%[======>             ]   8.19M   187KB/s    eta 66s    "
     ]
    },
    {
     "name": "stdout",
     "output_type": "stream",
     "text": [
      "\rinput_public_data.z  37%[======>             ]   8.25M   190KB/s    eta 66s    "
     ]
    },
    {
     "name": "stdout",
     "output_type": "stream",
     "text": [
      "\rinput_public_data.z  37%[======>             ]   8.30M   194KB/s    eta 66s    "
     ]
    },
    {
     "name": "stdout",
     "output_type": "stream",
     "text": [
      "\rinput_public_data.z  37%[======>             ]   8.36M   201KB/s    eta 66s    "
     ]
    },
    {
     "name": "stdout",
     "output_type": "stream",
     "text": [
      "\rinput_public_data.z  37%[======>             ]   8.39M   197KB/s    eta 66s    "
     ]
    },
    {
     "name": "stdout",
     "output_type": "stream",
     "text": [
      "\rinput_public_data.z  38%[======>             ]   8.44M   201KB/s    eta 64s    "
     ]
    },
    {
     "name": "stdout",
     "output_type": "stream",
     "text": [
      "\rinput_public_data.z  38%[======>             ]   8.47M   197KB/s    eta 64s    "
     ]
    },
    {
     "name": "stdout",
     "output_type": "stream",
     "text": [
      "\rinput_public_data.z  38%[======>             ]   8.52M   197KB/s    eta 64s    "
     ]
    },
    {
     "name": "stdout",
     "output_type": "stream",
     "text": [
      "\rinput_public_data.z  38%[======>             ]   8.57M   197KB/s    eta 64s    "
     ]
    },
    {
     "name": "stdout",
     "output_type": "stream",
     "text": [
      "\rinput_public_data.z  38%[======>             ]   8.61M   201KB/s    eta 64s    "
     ]
    },
    {
     "name": "stdout",
     "output_type": "stream",
     "text": [
      "\rinput_public_data.z  39%[======>             ]   8.66M   204KB/s    eta 64s    "
     ]
    },
    {
     "name": "stdout",
     "output_type": "stream",
     "text": [
      "\rinput_public_data.z  39%[======>             ]   8.71M   208KB/s    eta 64s    "
     ]
    },
    {
     "name": "stdout",
     "output_type": "stream",
     "text": [
      "\rinput_public_data.z  39%[======>             ]   8.75M   208KB/s    eta 64s    "
     ]
    },
    {
     "name": "stdout",
     "output_type": "stream",
     "text": [
      "\rinput_public_data.z  39%[======>             ]   8.82M   214KB/s    eta 64s    "
     ]
    },
    {
     "name": "stdout",
     "output_type": "stream",
     "text": [
      "\rinput_public_data.z  40%[=======>            ]   8.88M   218KB/s    eta 64s    "
     ]
    },
    {
     "name": "stdout",
     "output_type": "stream",
     "text": [
      "\rinput_public_data.z  40%[=======>            ]   8.94M   222KB/s    eta 62s    "
     ]
    },
    {
     "name": "stdout",
     "output_type": "stream",
     "text": [
      "\rinput_public_data.z  40%[=======>            ]   9.00M   225KB/s    eta 62s    "
     ]
    },
    {
     "name": "stdout",
     "output_type": "stream",
     "text": [
      "\rinput_public_data.z  41%[=======>            ]   9.07M   232KB/s    eta 62s    "
     ]
    },
    {
     "name": "stdout",
     "output_type": "stream",
     "text": [
      "\rinput_public_data.z  41%[=======>            ]   9.13M   232KB/s    eta 62s    "
     ]
    },
    {
     "name": "stdout",
     "output_type": "stream",
     "text": [
      "\rinput_public_data.z  41%[=======>            ]   9.19M   236KB/s    eta 62s    "
     ]
    },
    {
     "name": "stdout",
     "output_type": "stream",
     "text": [
      "\rinput_public_data.z  41%[=======>            ]   9.27M   239KB/s    eta 60s    "
     ]
    },
    {
     "name": "stdout",
     "output_type": "stream",
     "text": [
      "\rinput_public_data.z  42%[=======>            ]   9.33M   239KB/s    eta 60s    "
     ]
    },
    {
     "name": "stdout",
     "output_type": "stream",
     "text": [
      "\rinput_public_data.z  42%[=======>            ]   9.41M   246KB/s    eta 60s    "
     ]
    },
    {
     "name": "stdout",
     "output_type": "stream",
     "text": [
      "\rinput_public_data.z  42%[=======>            ]   9.49M   250KB/s    eta 60s    "
     ]
    },
    {
     "name": "stdout",
     "output_type": "stream",
     "text": [
      "\rinput_public_data.z  43%[=======>            ]   9.57M   260KB/s    eta 60s    "
     ]
    },
    {
     "name": "stdout",
     "output_type": "stream",
     "text": [
      "\rinput_public_data.z  43%[=======>            ]   9.64M   267KB/s    eta 57s    "
     ]
    },
    {
     "name": "stdout",
     "output_type": "stream",
     "text": [
      "\rinput_public_data.z  44%[=======>            ]   9.72M   278KB/s    eta 57s    "
     ]
    },
    {
     "name": "stdout",
     "output_type": "stream",
     "text": [
      "\rinput_public_data.z  44%[=======>            ]   9.82M   288KB/s    eta 57s    "
     ]
    },
    {
     "name": "stdout",
     "output_type": "stream",
     "text": [
      "\rinput_public_data.z  44%[=======>            ]   9.89M   295KB/s    eta 57s    "
     ]
    },
    {
     "name": "stdout",
     "output_type": "stream",
     "text": [
      "\rinput_public_data.z  44%[=======>            ]   9.94M   295KB/s    eta 57s    "
     ]
    },
    {
     "name": "stdout",
     "output_type": "stream",
     "text": [
      "\rinput_public_data.z  45%[========>           ]   9.99M   295KB/s    eta 55s    "
     ]
    },
    {
     "name": "stdout",
     "output_type": "stream",
     "text": [
      "\rinput_public_data.z  45%[========>           ]  10.02M   291KB/s    eta 55s    "
     ]
    },
    {
     "name": "stdout",
     "output_type": "stream",
     "text": [
      "\rinput_public_data.z  45%[========>           ]  10.05M   288KB/s    eta 55s    "
     ]
    },
    {
     "name": "stdout",
     "output_type": "stream",
     "text": [
      "\rinput_public_data.z  45%[========>           ]  10.08M   281KB/s    eta 55s    "
     ]
    },
    {
     "name": "stdout",
     "output_type": "stream",
     "text": [
      "\rinput_public_data.z  45%[========>           ]  10.11M   274KB/s    eta 55s    "
     ]
    },
    {
     "name": "stdout",
     "output_type": "stream",
     "text": [
      "\rinput_public_data.z  45%[========>           ]  10.16M   270KB/s    eta 55s    "
     ]
    },
    {
     "name": "stdout",
     "output_type": "stream",
     "text": [
      "\rinput_public_data.z  46%[========>           ]  10.21M   267KB/s    eta 55s    "
     ]
    },
    {
     "name": "stdout",
     "output_type": "stream",
     "text": [
      "\rinput_public_data.z  46%[========>           ]  10.24M   260KB/s    eta 55s    "
     ]
    },
    {
     "name": "stdout",
     "output_type": "stream",
     "text": [
      "\rinput_public_data.z  46%[========>           ]  10.29M   257KB/s    eta 55s    "
     ]
    },
    {
     "name": "stdout",
     "output_type": "stream",
     "text": [
      "\rinput_public_data.z  46%[========>           ]  10.35M   257KB/s    eta 55s    "
     ]
    },
    {
     "name": "stdout",
     "output_type": "stream",
     "text": [
      "\rinput_public_data.z  47%[========>           ]  10.39M   250KB/s    eta 54s    "
     ]
    },
    {
     "name": "stdout",
     "output_type": "stream",
     "text": [
      "\rinput_public_data.z  47%[========>           ]  10.44M   246KB/s    eta 54s    "
     ]
    },
    {
     "name": "stdout",
     "output_type": "stream",
     "text": [
      "\rinput_public_data.z  47%[========>           ]  10.50M   243KB/s    eta 54s    "
     ]
    },
    {
     "name": "stdout",
     "output_type": "stream",
     "text": [
      "\rinput_public_data.z  47%[========>           ]  10.57M   239KB/s    eta 54s    "
     ]
    },
    {
     "name": "stdout",
     "output_type": "stream",
     "text": [
      "\rinput_public_data.z  48%[========>           ]  10.63M   236KB/s    eta 54s    "
     ]
    },
    {
     "name": "stdout",
     "output_type": "stream",
     "text": [
      "\rinput_public_data.z  48%[========>           ]  10.69M   232KB/s    eta 52s    "
     ]
    },
    {
     "name": "stdout",
     "output_type": "stream",
     "text": [
      "\rinput_public_data.z  48%[========>           ]  10.75M   229KB/s    eta 52s    "
     ]
    },
    {
     "name": "stdout",
     "output_type": "stream",
     "text": [
      "\rinput_public_data.z  48%[========>           ]  10.82M   222KB/s    eta 52s    "
     ]
    },
    {
     "name": "stdout",
     "output_type": "stream",
     "text": [
      "\rinput_public_data.z  49%[========>           ]  10.88M   219KB/s    eta 52s    "
     ]
    },
    {
     "name": "stdout",
     "output_type": "stream",
     "text": [
      "\rinput_public_data.z  49%[========>           ]  10.96M   225KB/s    eta 52s    "
     ]
    },
    {
     "name": "stdout",
     "output_type": "stream",
     "text": [
      "\rinput_public_data.z  49%[========>           ]  11.02M   229KB/s    eta 50s    "
     ]
    },
    {
     "name": "stdout",
     "output_type": "stream",
     "text": [
      "\rinput_public_data.z  50%[=========>          ]  11.10M   239KB/s    eta 50s    "
     ]
    },
    {
     "name": "stdout",
     "output_type": "stream",
     "text": [
      "\rinput_public_data.z  50%[=========>          ]  11.18M   250KB/s    eta 50s    "
     ]
    },
    {
     "name": "stdout",
     "output_type": "stream",
     "text": [
      "\rinput_public_data.z  50%[=========>          ]  11.25M   260KB/s    eta 50s    "
     ]
    },
    {
     "name": "stdout",
     "output_type": "stream",
     "text": [
      "\rinput_public_data.z  51%[=========>          ]  11.33M   270KB/s    eta 50s    "
     ]
    },
    {
     "name": "stdout",
     "output_type": "stream",
     "text": [
      "\rinput_public_data.z  51%[=========>          ]  11.41M   278KB/s    eta 48s    "
     ]
    },
    {
     "name": "stdout",
     "output_type": "stream",
     "text": [
      "\rinput_public_data.z  52%[=========>          ]  11.50M   288KB/s    eta 48s    "
     ]
    },
    {
     "name": "stdout",
     "output_type": "stream",
     "text": [
      "\rinput_public_data.z  52%[=========>          ]  11.58M   298KB/s    eta 48s    "
     ]
    },
    {
     "name": "stdout",
     "output_type": "stream",
     "text": [
      "\rinput_public_data.z  52%[=========>          ]  11.68M   309KB/s    eta 48s    "
     ]
    },
    {
     "name": "stdout",
     "output_type": "stream",
     "text": [
      "\rinput_public_data.z  53%[=========>          ]  11.77M   316KB/s    eta 48s    "
     ]
    },
    {
     "name": "stdout",
     "output_type": "stream",
     "text": [
      "\rinput_public_data.z  53%[=========>          ]  11.85M   322KB/s    eta 45s    "
     ]
    },
    {
     "name": "stdout",
     "output_type": "stream",
     "text": [
      "\rinput_public_data.z  54%[=========>          ]  11.94M   333KB/s    eta 45s    "
     ]
    },
    {
     "name": "stdout",
     "output_type": "stream",
     "text": [
      "\rinput_public_data.z  54%[=========>          ]  12.00M   331KB/s    eta 45s    "
     ]
    },
    {
     "name": "stdout",
     "output_type": "stream",
     "text": [
      "\rinput_public_data.z  54%[=========>          ]  12.05M   328KB/s    eta 45s    "
     ]
    },
    {
     "name": "stdout",
     "output_type": "stream",
     "text": [
      "\rinput_public_data.z  54%[=========>          ]  12.08M   321KB/s    eta 45s    "
     ]
    },
    {
     "name": "stdout",
     "output_type": "stream",
     "text": [
      "\rinput_public_data.z  54%[=========>          ]  12.11M   314KB/s    eta 44s    "
     ]
    },
    {
     "name": "stdout",
     "output_type": "stream",
     "text": [
      "\rinput_public_data.z  54%[=========>          ]  12.14M   307KB/s    eta 44s    "
     ]
    },
    {
     "name": "stdout",
     "output_type": "stream",
     "text": [
      "\rinput_public_data.z  55%[==========>         ]  12.18M   300KB/s    eta 44s    "
     ]
    },
    {
     "name": "stdout",
     "output_type": "stream",
     "text": [
      "\rinput_public_data.z  55%[==========>         ]  12.22M   297KB/s    eta 44s    "
     ]
    },
    {
     "name": "stdout",
     "output_type": "stream",
     "text": [
      "\rinput_public_data.z  55%[==========>         ]  12.25M   286KB/s    eta 44s    "
     ]
    },
    {
     "name": "stdout",
     "output_type": "stream",
     "text": [
      "\rinput_public_data.z  55%[==========>         ]  12.30M   283KB/s    eta 44s    "
     ]
    },
    {
     "name": "stdout",
     "output_type": "stream",
     "text": [
      "\rinput_public_data.z  55%[==========>         ]  12.35M   276KB/s    eta 44s    "
     ]
    },
    {
     "name": "stdout",
     "output_type": "stream",
     "text": [
      "\rinput_public_data.z  56%[==========>         ]  12.41M   273KB/s    eta 44s    "
     ]
    },
    {
     "name": "stdout",
     "output_type": "stream",
     "text": [
      "\rinput_public_data.z  56%[==========>         ]  12.46M   266KB/s    eta 44s    "
     ]
    },
    {
     "name": "stdout",
     "output_type": "stream",
     "text": [
      "\rinput_public_data.z  56%[==========>         ]  12.50M   259KB/s    eta 44s    "
     ]
    },
    {
     "name": "stdout",
     "output_type": "stream",
     "text": [
      "\rinput_public_data.z  56%[==========>         ]  12.57M   255KB/s    eta 42s    "
     ]
    },
    {
     "name": "stdout",
     "output_type": "stream",
     "text": [
      "\rinput_public_data.z  57%[==========>         ]  12.63M   248KB/s    eta 42s    "
     ]
    },
    {
     "name": "stdout",
     "output_type": "stream",
     "text": [
      "\rinput_public_data.z  57%[==========>         ]  12.68M   242KB/s    eta 42s    "
     ]
    },
    {
     "name": "stdout",
     "output_type": "stream",
     "text": [
      "\rinput_public_data.z  57%[==========>         ]  12.71M   228KB/s    eta 42s    "
     ]
    },
    {
     "name": "stdout",
     "output_type": "stream",
     "text": [
      "\rinput_public_data.z  57%[==========>         ]  12.74M   214KB/s    eta 42s    "
     ]
    },
    {
     "name": "stdout",
     "output_type": "stream",
     "text": [
      "\rinput_public_data.z  57%[==========>         ]  12.79M   207KB/s    eta 42s    "
     ]
    },
    {
     "name": "stdout",
     "output_type": "stream",
     "text": [
      "\rinput_public_data.z  58%[==========>         ]  12.82M   194KB/s    eta 42s    "
     ]
    },
    {
     "name": "stdout",
     "output_type": "stream",
     "text": [
      "\rinput_public_data.z  58%[==========>         ]  12.86M   191KB/s    eta 42s    "
     ]
    },
    {
     "name": "stdout",
     "output_type": "stream",
     "text": [
      "\rinput_public_data.z  58%[==========>         ]  12.91M   191KB/s    eta 42s    "
     ]
    },
    {
     "name": "stdout",
     "output_type": "stream",
     "text": [
      "\rinput_public_data.z  58%[==========>         ]  12.96M   194KB/s    eta 42s    "
     ]
    },
    {
     "name": "stdout",
     "output_type": "stream",
     "text": [
      "\rinput_public_data.z  58%[==========>         ]  13.02M   201KB/s    eta 41s    "
     ]
    },
    {
     "name": "stdout",
     "output_type": "stream",
     "text": [
      "\rinput_public_data.z  59%[==========>         ]  13.07M   205KB/s    eta 41s    "
     ]
    },
    {
     "name": "stdout",
     "output_type": "stream",
     "text": [
      "\rinput_public_data.z  59%[==========>         ]  13.13M   212KB/s    eta 41s    "
     ]
    },
    {
     "name": "stdout",
     "output_type": "stream",
     "text": [
      "\rinput_public_data.z  59%[==========>         ]  13.18M   212KB/s    eta 41s    "
     ]
    },
    {
     "name": "stdout",
     "output_type": "stream",
     "text": [
      "\rinput_public_data.z  59%[==========>         ]  13.24M   219KB/s    eta 41s    "
     ]
    },
    {
     "name": "stdout",
     "output_type": "stream",
     "text": [
      "\rinput_public_data.z  60%[===========>        ]  13.30M   222KB/s    eta 39s    "
     ]
    },
    {
     "name": "stdout",
     "output_type": "stream",
     "text": [
      "\rinput_public_data.z  60%[===========>        ]  13.36M   225KB/s    eta 39s    "
     ]
    },
    {
     "name": "stdout",
     "output_type": "stream",
     "text": [
      "\rinput_public_data.z  60%[===========>        ]  13.44M   229KB/s    eta 39s    "
     ]
    },
    {
     "name": "stdout",
     "output_type": "stream",
     "text": [
      "\rinput_public_data.z  61%[===========>        ]  13.50M   232KB/s    eta 39s    "
     ]
    },
    {
     "name": "stdout",
     "output_type": "stream",
     "text": [
      "\rinput_public_data.z  61%[===========>        ]  13.58M   239KB/s    eta 39s    "
     ]
    },
    {
     "name": "stdout",
     "output_type": "stream",
     "text": [
      "\rinput_public_data.z  61%[===========>        ]  13.64M   239KB/s    eta 38s    "
     ]
    },
    {
     "name": "stdout",
     "output_type": "stream",
     "text": [
      "\rinput_public_data.z  62%[===========>        ]  13.72M   243KB/s    eta 38s    "
     ]
    },
    {
     "name": "stdout",
     "output_type": "stream",
     "text": [
      "\rinput_public_data.z  62%[===========>        ]  13.80M   250KB/s    eta 38s    "
     ]
    },
    {
     "name": "stdout",
     "output_type": "stream",
     "text": [
      "\rinput_public_data.z  62%[===========>        ]  13.88M   260KB/s    eta 38s    "
     ]
    },
    {
     "name": "stdout",
     "output_type": "stream",
     "text": [
      "\rinput_public_data.z  63%[===========>        ]  13.96M   271KB/s    eta 38s    "
     ]
    },
    {
     "name": "stdout",
     "output_type": "stream",
     "text": [
      "\rinput_public_data.z  63%[===========>        ]  14.02M   274KB/s    eta 36s    "
     ]
    },
    {
     "name": "stdout",
     "output_type": "stream",
     "text": [
      "\rinput_public_data.z  63%[===========>        ]  14.07M   277KB/s    eta 36s    "
     ]
    },
    {
     "name": "stdout",
     "output_type": "stream",
     "text": [
      "\rinput_public_data.z  63%[===========>        ]  14.11M   277KB/s    eta 36s    "
     ]
    },
    {
     "name": "stdout",
     "output_type": "stream",
     "text": [
      "\rinput_public_data.z  64%[===========>        ]  14.16M   277KB/s    eta 36s    "
     ]
    },
    {
     "name": "stdout",
     "output_type": "stream",
     "text": [
      "\rinput_public_data.z  64%[===========>        ]  14.21M   276KB/s    eta 36s    "
     ]
    },
    {
     "name": "stdout",
     "output_type": "stream",
     "text": [
      "\rinput_public_data.z  64%[===========>        ]  14.25M   274KB/s    eta 35s    "
     ]
    },
    {
     "name": "stdout",
     "output_type": "stream",
     "text": [
      "\rinput_public_data.z  64%[===========>        ]  14.32M   277KB/s    eta 35s    "
     ]
    },
    {
     "name": "stdout",
     "output_type": "stream",
     "text": [
      "\rinput_public_data.z  65%[============>       ]  14.36M   274KB/s    eta 35s    "
     ]
    },
    {
     "name": "stdout",
     "output_type": "stream",
     "text": [
      "\rinput_public_data.z  65%[============>       ]  14.43M   278KB/s    eta 35s    "
     ]
    },
    {
     "name": "stdout",
     "output_type": "stream",
     "text": [
      "\rinput_public_data.z  65%[============>       ]  14.46M   271KB/s    eta 35s    "
     ]
    },
    {
     "name": "stdout",
     "output_type": "stream",
     "text": [
      "\rinput_public_data.z  65%[============>       ]  14.50M   267KB/s    eta 34s    "
     ]
    },
    {
     "name": "stdout",
     "output_type": "stream",
     "text": [
      "\rinput_public_data.z  65%[============>       ]  14.54M   261KB/s    eta 34s    "
     ]
    },
    {
     "name": "stdout",
     "output_type": "stream",
     "text": [
      "\rinput_public_data.z  66%[============>       ]  14.58M   253KB/s    eta 34s    "
     ]
    },
    {
     "name": "stdout",
     "output_type": "stream",
     "text": [
      "\rinput_public_data.z  66%[============>       ]  14.63M   244KB/s    eta 34s    "
     ]
    },
    {
     "name": "stdout",
     "output_type": "stream",
     "text": [
      "\rinput_public_data.z  66%[============>       ]  14.66M   234KB/s    eta 33s    "
     ]
    },
    {
     "name": "stdout",
     "output_type": "stream",
     "text": [
      "\rinput_public_data.z  66%[============>       ]  14.69M   227KB/s    eta 33s    "
     ]
    },
    {
     "name": "stdout",
     "output_type": "stream",
     "text": [
      "\rinput_public_data.z  66%[============>       ]  14.72M   217KB/s    eta 33s    "
     ]
    },
    {
     "name": "stdout",
     "output_type": "stream",
     "text": [
      "\rinput_public_data.z  66%[============>       ]  14.75M   207KB/s    eta 33s    "
     ]
    },
    {
     "name": "stdout",
     "output_type": "stream",
     "text": [
      "\rinput_public_data.z  66%[============>       ]  14.80M   200KB/s    eta 33s    "
     ]
    },
    {
     "name": "stdout",
     "output_type": "stream",
     "text": [
      "\rinput_public_data.z  67%[============>       ]  14.85M   193KB/s    eta 32s    "
     ]
    },
    {
     "name": "stdout",
     "output_type": "stream",
     "text": [
      "\rinput_public_data.z  67%[============>       ]  14.89M   189KB/s    eta 32s    "
     ]
    },
    {
     "name": "stdout",
     "output_type": "stream",
     "text": [
      "\rinput_public_data.z  67%[============>       ]  14.94M   190KB/s    eta 32s    "
     ]
    },
    {
     "name": "stdout",
     "output_type": "stream",
     "text": [
      "\rinput_public_data.z  67%[============>       ]  14.99M   190KB/s    eta 32s    "
     ]
    },
    {
     "name": "stdout",
     "output_type": "stream",
     "text": [
      "\rinput_public_data.z  68%[============>       ]  15.04M   190KB/s    eta 32s    "
     ]
    },
    {
     "name": "stdout",
     "output_type": "stream",
     "text": [
      "\rinput_public_data.z  68%[============>       ]  15.10M   193KB/s    eta 31s    "
     ]
    },
    {
     "name": "stdout",
     "output_type": "stream",
     "text": [
      "\rinput_public_data.z  68%[============>       ]  15.16M   196KB/s    eta 31s    "
     ]
    },
    {
     "name": "stdout",
     "output_type": "stream",
     "text": [
      "\rinput_public_data.z  68%[============>       ]  15.22M   196KB/s    eta 31s    "
     ]
    },
    {
     "name": "stdout",
     "output_type": "stream",
     "text": [
      "\rinput_public_data.z  69%[============>       ]  15.29M   200KB/s    eta 31s    "
     ]
    },
    {
     "name": "stdout",
     "output_type": "stream",
     "text": [
      "\rinput_public_data.z  69%[============>       ]  15.35M   200KB/s    eta 31s    "
     ]
    },
    {
     "name": "stdout",
     "output_type": "stream",
     "text": [
      "\rinput_public_data.z  69%[============>       ]  15.41M   206KB/s    eta 30s    "
     ]
    },
    {
     "name": "stdout",
     "output_type": "stream",
     "text": [
      "\rinput_public_data.z  70%[=============>      ]  15.49M   213KB/s    eta 30s    "
     ]
    },
    {
     "name": "stdout",
     "output_type": "stream",
     "text": [
      "\rinput_public_data.z  70%[=============>      ]  15.55M   220KB/s    eta 30s    "
     ]
    },
    {
     "name": "stdout",
     "output_type": "stream",
     "text": [
      "\rinput_public_data.z  70%[=============>      ]  15.63M   227KB/s    eta 30s    "
     ]
    },
    {
     "name": "stdout",
     "output_type": "stream",
     "text": [
      "\rinput_public_data.z  71%[=============>      ]  15.71M   239KB/s    eta 30s    "
     ]
    },
    {
     "name": "stdout",
     "output_type": "stream",
     "text": [
      "\rinput_public_data.z  71%[=============>      ]  15.79M   249KB/s    eta 28s    "
     ]
    },
    {
     "name": "stdout",
     "output_type": "stream",
     "text": [
      "\rinput_public_data.z  71%[=============>      ]  15.86M   260KB/s    eta 28s    "
     ]
    },
    {
     "name": "stdout",
     "output_type": "stream",
     "text": [
      "\rinput_public_data.z  72%[=============>      ]  15.91M   263KB/s    eta 28s    "
     ]
    },
    {
     "name": "stdout",
     "output_type": "stream",
     "text": [
      "\rinput_public_data.z  72%[=============>      ]  15.96M   266KB/s    eta 28s    "
     ]
    },
    {
     "name": "stdout",
     "output_type": "stream",
     "text": [
      "\rinput_public_data.z  72%[=============>      ]  16.00M   266KB/s    eta 28s    "
     ]
    },
    {
     "name": "stdout",
     "output_type": "stream",
     "text": [
      "\rinput_public_data.z  72%[=============>      ]  16.04M   263KB/s    eta 27s    "
     ]
    },
    {
     "name": "stdout",
     "output_type": "stream",
     "text": [
      "\rinput_public_data.z  72%[=============>      ]  16.10M   267KB/s    eta 27s    "
     ]
    },
    {
     "name": "stdout",
     "output_type": "stream",
     "text": [
      "\rinput_public_data.z  73%[=============>      ]  16.14M   266KB/s    eta 27s    "
     ]
    },
    {
     "name": "stdout",
     "output_type": "stream",
     "text": [
      "\rinput_public_data.z  73%[=============>      ]  16.19M   266KB/s    eta 27s    "
     ]
    },
    {
     "name": "stdout",
     "output_type": "stream",
     "text": [
      "\rinput_public_data.z  73%[=============>      ]  16.25M   270KB/s    eta 27s    "
     ]
    },
    {
     "name": "stdout",
     "output_type": "stream",
     "text": [
      "\rinput_public_data.z  73%[=============>      ]  16.32M   270KB/s    eta 26s    "
     ]
    },
    {
     "name": "stdout",
     "output_type": "stream",
     "text": [
      "\rinput_public_data.z  74%[=============>      ]  16.36M   266KB/s    eta 26s    "
     ]
    },
    {
     "name": "stdout",
     "output_type": "stream",
     "text": [
      "\rinput_public_data.z  74%[=============>      ]  16.39M   260KB/s    eta 26s    "
     ]
    },
    {
     "name": "stdout",
     "output_type": "stream",
     "text": [
      "\rinput_public_data.z  74%[=============>      ]  16.43M   253KB/s    eta 26s    "
     ]
    },
    {
     "name": "stdout",
     "output_type": "stream",
     "text": [
      "\rinput_public_data.z  74%[=============>      ]  16.46M   246KB/s    eta 26s    "
     ]
    },
    {
     "name": "stdout",
     "output_type": "stream",
     "text": [
      "\rinput_public_data.z  74%[=============>      ]  16.50M   242KB/s    eta 25s    "
     ]
    },
    {
     "name": "stdout",
     "output_type": "stream",
     "text": [
      "\rinput_public_data.z  74%[=============>      ]  16.55M   235KB/s    eta 25s    "
     ]
    },
    {
     "name": "stdout",
     "output_type": "stream",
     "text": [
      "\rinput_public_data.z  75%[==============>     ]  16.58M   228KB/s    eta 25s    "
     ]
    },
    {
     "name": "stdout",
     "output_type": "stream",
     "text": [
      "\rinput_public_data.z  75%[==============>     ]  16.61M   218KB/s    eta 25s    "
     ]
    },
    {
     "name": "stdout",
     "output_type": "stream",
     "text": [
      "\rinput_public_data.z  75%[==============>     ]  16.64M   208KB/s    eta 25s    "
     ]
    },
    {
     "name": "stdout",
     "output_type": "stream",
     "text": [
      "\rinput_public_data.z  75%[==============>     ]  16.69M   201KB/s    eta 24s    "
     ]
    },
    {
     "name": "stdout",
     "output_type": "stream",
     "text": [
      "\rinput_public_data.z  75%[==============>     ]  16.72M   190KB/s    eta 24s    "
     ]
    },
    {
     "name": "stdout",
     "output_type": "stream",
     "text": [
      "\rinput_public_data.z  75%[==============>     ]  16.77M   191KB/s    eta 24s    "
     ]
    },
    {
     "name": "stdout",
     "output_type": "stream",
     "text": [
      "\rinput_public_data.z  76%[==============>     ]  16.82M   190KB/s    eta 24s    "
     ]
    },
    {
     "name": "stdout",
     "output_type": "stream",
     "text": [
      "\rinput_public_data.z  76%[==============>     ]  16.86M   191KB/s    eta 24s    "
     ]
    },
    {
     "name": "stdout",
     "output_type": "stream",
     "text": [
      "\rinput_public_data.z  76%[==============>     ]  16.91M   194KB/s    eta 23s    "
     ]
    },
    {
     "name": "stdout",
     "output_type": "stream",
     "text": [
      "\rinput_public_data.z  76%[==============>     ]  16.97M   194KB/s    eta 23s    "
     ]
    },
    {
     "name": "stdout",
     "output_type": "stream",
     "text": [
      "\rinput_public_data.z  77%[==============>     ]  17.02M   194KB/s    eta 23s    "
     ]
    },
    {
     "name": "stdout",
     "output_type": "stream",
     "text": [
      "\rinput_public_data.z  77%[==============>     ]  17.07M   194KB/s    eta 23s    "
     ]
    },
    {
     "name": "stdout",
     "output_type": "stream",
     "text": [
      "\rinput_public_data.z  77%[==============>     ]  17.10M   187KB/s    eta 23s    "
     ]
    },
    {
     "name": "stdout",
     "output_type": "stream",
     "text": [
      "\rinput_public_data.z  77%[==============>     ]  17.13M   180KB/s    eta 22s    "
     ]
    },
    {
     "name": "stdout",
     "output_type": "stream",
     "text": [
      "\rinput_public_data.z  77%[==============>     ]  17.16M   177KB/s    eta 22s    "
     ]
    },
    {
     "name": "stdout",
     "output_type": "stream",
     "text": [
      "\rinput_public_data.z  77%[==============>     ]  17.21M   180KB/s    eta 22s    "
     ]
    },
    {
     "name": "stdout",
     "output_type": "stream",
     "text": [
      "\rinput_public_data.z  78%[==============>     ]  17.25M   183KB/s    eta 22s    "
     ]
    },
    {
     "name": "stdout",
     "output_type": "stream",
     "text": [
      "\rinput_public_data.z  78%[==============>     ]  17.30M   187KB/s    eta 22s    "
     ]
    },
    {
     "name": "stdout",
     "output_type": "stream",
     "text": [
      "\rinput_public_data.z  78%[==============>     ]  17.35M   187KB/s    eta 21s    "
     ]
    },
    {
     "name": "stdout",
     "output_type": "stream",
     "text": [
      "\rinput_public_data.z  78%[==============>     ]  17.39M   187KB/s    eta 21s    "
     ]
    },
    {
     "name": "stdout",
     "output_type": "stream",
     "text": [
      "\rinput_public_data.z  79%[==============>     ]  17.46M   194KB/s    eta 21s    "
     ]
    },
    {
     "name": "stdout",
     "output_type": "stream",
     "text": [
      "\rinput_public_data.z  79%[==============>     ]  17.50M   198KB/s    eta 21s    "
     ]
    },
    {
     "name": "stdout",
     "output_type": "stream",
     "text": [
      "\rinput_public_data.z  79%[==============>     ]  17.57M   204KB/s    eta 21s    "
     ]
    },
    {
     "name": "stdout",
     "output_type": "stream",
     "text": [
      "\rinput_public_data.z  79%[==============>     ]  17.63M   208KB/s    eta 20s    "
     ]
    },
    {
     "name": "stdout",
     "output_type": "stream",
     "text": [
      "\rinput_public_data.z  80%[===============>    ]  17.69M   215KB/s    eta 20s    "
     ]
    },
    {
     "name": "stdout",
     "output_type": "stream",
     "text": [
      "\rinput_public_data.z  80%[===============>    ]  17.75M   219KB/s    eta 20s    "
     ]
    },
    {
     "name": "stdout",
     "output_type": "stream",
     "text": [
      "\rinput_public_data.z  80%[===============>    ]  17.82M   222KB/s    eta 20s    "
     ]
    },
    {
     "name": "stdout",
     "output_type": "stream",
     "text": [
      "\rinput_public_data.z  80%[===============>    ]  17.88M   226KB/s    eta 20s    "
     ]
    },
    {
     "name": "stdout",
     "output_type": "stream",
     "text": [
      "\rinput_public_data.z  81%[===============>    ]  17.93M   226KB/s    eta 19s    "
     ]
    },
    {
     "name": "stdout",
     "output_type": "stream",
     "text": [
      "\rinput_public_data.z  81%[===============>    ]  17.96M   218KB/s    eta 19s    "
     ]
    },
    {
     "name": "stdout",
     "output_type": "stream",
     "text": [
      "\rinput_public_data.z  81%[===============>    ]  17.99M   215KB/s    eta 19s    "
     ]
    },
    {
     "name": "stdout",
     "output_type": "stream",
     "text": [
      "\rinput_public_data.z  81%[===============>    ]  18.04M   215KB/s    eta 19s    "
     ]
    },
    {
     "name": "stdout",
     "output_type": "stream",
     "text": [
      "\rinput_public_data.z  81%[===============>    ]  18.08M   219KB/s    eta 19s    "
     ]
    },
    {
     "name": "stdout",
     "output_type": "stream",
     "text": [
      "\rinput_public_data.z  82%[===============>    ]  18.13M   222KB/s    eta 18s    "
     ]
    },
    {
     "name": "stdout",
     "output_type": "stream",
     "text": [
      "\rinput_public_data.z  82%[===============>    ]  18.18M   225KB/s    eta 18s    "
     ]
    },
    {
     "name": "stdout",
     "output_type": "stream",
     "text": [
      "\rinput_public_data.z  82%[===============>    ]  18.24M   229KB/s    eta 18s    "
     ]
    },
    {
     "name": "stdout",
     "output_type": "stream",
     "text": [
      "\rinput_public_data.z  82%[===============>    ]  18.29M   229KB/s    eta 18s    "
     ]
    },
    {
     "name": "stdout",
     "output_type": "stream",
     "text": [
      "\rinput_public_data.z  83%[===============>    ]  18.35M   233KB/s    eta 18s    "
     ]
    },
    {
     "name": "stdout",
     "output_type": "stream",
     "text": [
      "\rinput_public_data.z  83%[===============>    ]  18.39M   233KB/s    eta 17s    "
     ]
    },
    {
     "name": "stdout",
     "output_type": "stream",
     "text": [
      "\rinput_public_data.z  83%[===============>    ]  18.46M   236KB/s    eta 17s    "
     ]
    },
    {
     "name": "stdout",
     "output_type": "stream",
     "text": [
      "\rinput_public_data.z  83%[===============>    ]  18.52M   236KB/s    eta 17s    "
     ]
    },
    {
     "name": "stdout",
     "output_type": "stream",
     "text": [
      "\rinput_public_data.z  84%[===============>    ]  18.58M   239KB/s    eta 17s    "
     ]
    },
    {
     "name": "stdout",
     "output_type": "stream",
     "text": [
      "\rinput_public_data.z  84%[===============>    ]  18.66M   243KB/s    eta 17s    "
     ]
    },
    {
     "name": "stdout",
     "output_type": "stream",
     "text": [
      "\rinput_public_data.z  84%[===============>    ]  18.72M   243KB/s    eta 15s    "
     ]
    },
    {
     "name": "stdout",
     "output_type": "stream",
     "text": [
      "\rinput_public_data.z  84%[===============>    ]  18.77M   239KB/s    eta 15s    "
     ]
    },
    {
     "name": "stdout",
     "output_type": "stream",
     "text": [
      "\rinput_public_data.z  85%[================>   ]  18.82M   235KB/s    eta 15s    "
     ]
    },
    {
     "name": "stdout",
     "output_type": "stream",
     "text": [
      "\rinput_public_data.z  85%[================>   ]  18.85M   229KB/s    eta 15s    "
     ]
    },
    {
     "name": "stdout",
     "output_type": "stream",
     "text": [
      "\rinput_public_data.z  85%[================>   ]  18.89M   225KB/s    eta 15s    "
     ]
    },
    {
     "name": "stdout",
     "output_type": "stream",
     "text": [
      "\rinput_public_data.z  85%[================>   ]  18.94M   225KB/s    eta 14s    "
     ]
    },
    {
     "name": "stdout",
     "output_type": "stream",
     "text": [
      "\rinput_public_data.z  85%[================>   ]  18.99M   229KB/s    eta 14s    "
     ]
    },
    {
     "name": "stdout",
     "output_type": "stream",
     "text": [
      "\rinput_public_data.z  86%[================>   ]  19.04M   232KB/s    eta 14s    "
     ]
    },
    {
     "name": "stdout",
     "output_type": "stream",
     "text": [
      "\rinput_public_data.z  86%[================>   ]  19.10M   236KB/s    eta 14s    "
     ]
    },
    {
     "name": "stdout",
     "output_type": "stream",
     "text": [
      "\rinput_public_data.z  86%[================>   ]  19.14M   236KB/s    eta 14s    "
     ]
    },
    {
     "name": "stdout",
     "output_type": "stream",
     "text": [
      "\rinput_public_data.z  86%[================>   ]  19.21M   239KB/s    eta 13s    "
     ]
    },
    {
     "name": "stdout",
     "output_type": "stream",
     "text": [
      "\rinput_public_data.z  87%[================>   ]  19.27M   243KB/s    eta 13s    "
     ]
    },
    {
     "name": "stdout",
     "output_type": "stream",
     "text": [
      "\rinput_public_data.z  87%[================>   ]  19.33M   243KB/s    eta 13s    "
     ]
    },
    {
     "name": "stdout",
     "output_type": "stream",
     "text": [
      "\rinput_public_data.z  87%[================>   ]  19.39M   246KB/s    eta 13s    "
     ]
    },
    {
     "name": "stdout",
     "output_type": "stream",
     "text": [
      "\rinput_public_data.z  88%[================>   ]  19.46M   246KB/s    eta 13s    "
     ]
    },
    {
     "name": "stdout",
     "output_type": "stream",
     "text": [
      "\rinput_public_data.z  88%[================>   ]  19.52M   249KB/s    eta 11s    "
     ]
    },
    {
     "name": "stdout",
     "output_type": "stream",
     "text": [
      "\rinput_public_data.z  88%[================>   ]  19.58M   249KB/s    eta 11s    "
     ]
    },
    {
     "name": "stdout",
     "output_type": "stream",
     "text": [
      "\rinput_public_data.z  88%[================>   ]  19.63M   246KB/s    eta 11s    "
     ]
    },
    {
     "name": "stdout",
     "output_type": "stream",
     "text": [
      "\rinput_public_data.z  88%[================>   ]  19.66M   239KB/s    eta 11s    "
     ]
    },
    {
     "name": "stdout",
     "output_type": "stream",
     "text": [
      "\rinput_public_data.z  89%[================>   ]  19.71M   232KB/s    eta 11s    "
     ]
    },
    {
     "name": "stdout",
     "output_type": "stream",
     "text": [
      "\rinput_public_data.z  89%[================>   ]  19.74M   225KB/s    eta 11s    "
     ]
    },
    {
     "name": "stdout",
     "output_type": "stream",
     "text": [
      "\rinput_public_data.z  89%[================>   ]  19.79M   225KB/s    eta 11s    "
     ]
    },
    {
     "name": "stdout",
     "output_type": "stream",
     "text": [
      "\rinput_public_data.z  89%[================>   ]  19.85M   229KB/s    eta 11s    "
     ]
    },
    {
     "name": "stdout",
     "output_type": "stream",
     "text": [
      "\rinput_public_data.z  90%[=================>  ]  19.89M   232KB/s    eta 11s    "
     ]
    },
    {
     "name": "stdout",
     "output_type": "stream",
     "text": [
      "\rinput_public_data.z  90%[=================>  ]  19.94M   232KB/s    eta 11s    "
     ]
    },
    {
     "name": "stdout",
     "output_type": "stream",
     "text": [
      "\rinput_public_data.z  90%[=================>  ]  20.00M   236KB/s    eta 9s     "
     ]
    },
    {
     "name": "stdout",
     "output_type": "stream",
     "text": [
      "\rinput_public_data.z  90%[=================>  ]  20.05M   236KB/s    eta 9s     "
     ]
    },
    {
     "name": "stdout",
     "output_type": "stream",
     "text": [
      "\rinput_public_data.z  91%[=================>  ]  20.11M   239KB/s    eta 9s     "
     ]
    },
    {
     "name": "stdout",
     "output_type": "stream",
     "text": [
      "\rinput_public_data.z  91%[=================>  ]  20.18M   239KB/s    eta 9s     "
     ]
    },
    {
     "name": "stdout",
     "output_type": "stream",
     "text": [
      "\rinput_public_data.z  91%[=================>  ]  20.24M   243KB/s    eta 9s     "
     ]
    },
    {
     "name": "stdout",
     "output_type": "stream",
     "text": [
      "\rinput_public_data.z  91%[=================>  ]  20.30M   243KB/s    eta 8s     "
     ]
    },
    {
     "name": "stdout",
     "output_type": "stream",
     "text": [
      "\rinput_public_data.z  92%[=================>  ]  20.36M   243KB/s    eta 8s     "
     ]
    },
    {
     "name": "stdout",
     "output_type": "stream",
     "text": [
      "\rinput_public_data.z  92%[=================>  ]  20.44M   246KB/s    eta 8s     "
     ]
    },
    {
     "name": "stdout",
     "output_type": "stream",
     "text": [
      "\rinput_public_data.z  92%[=================>  ]  20.50M   246KB/s    eta 8s     "
     ]
    },
    {
     "name": "stdout",
     "output_type": "stream",
     "text": [
      "\rinput_public_data.z  93%[=================>  ]  20.58M   250KB/s    eta 8s     "
     ]
    },
    {
     "name": "stdout",
     "output_type": "stream",
     "text": [
      "\rinput_public_data.z  93%[=================>  ]  20.66M   253KB/s    eta 6s     "
     ]
    },
    {
     "name": "stdout",
     "output_type": "stream",
     "text": [
      "\rinput_public_data.z  93%[=================>  ]  20.74M   256KB/s    eta 6s     "
     ]
    },
    {
     "name": "stdout",
     "output_type": "stream",
     "text": [
      "\rinput_public_data.z  94%[=================>  ]  20.82M   263KB/s    eta 6s     "
     ]
    },
    {
     "name": "stdout",
     "output_type": "stream",
     "text": [
      "\rinput_public_data.z  94%[=================>  ]  20.89M   274KB/s    eta 6s     "
     ]
    },
    {
     "name": "stdout",
     "output_type": "stream",
     "text": [
      "\rinput_public_data.z  94%[=================>  ]  20.93M   270KB/s    eta 6s     "
     ]
    },
    {
     "name": "stdout",
     "output_type": "stream",
     "text": [
      "\rinput_public_data.z  94%[=================>  ]  20.97M   273KB/s    eta 5s     "
     ]
    },
    {
     "name": "stdout",
     "output_type": "stream",
     "text": [
      "\rinput_public_data.z  95%[==================> ]  21.02M   273KB/s    eta 5s     "
     ]
    },
    {
     "name": "stdout",
     "output_type": "stream",
     "text": [
      "\rinput_public_data.z  95%[==================> ]  21.07M   270KB/s    eta 5s     "
     ]
    },
    {
     "name": "stdout",
     "output_type": "stream",
     "text": [
      "\rinput_public_data.z  95%[==================> ]  21.11M   270KB/s    eta 5s     "
     ]
    },
    {
     "name": "stdout",
     "output_type": "stream",
     "text": [
      "\rinput_public_data.z  95%[==================> ]  21.16M   270KB/s    eta 5s     "
     ]
    },
    {
     "name": "stdout",
     "output_type": "stream",
     "text": [
      "\rinput_public_data.z  96%[==================> ]  21.22M   270KB/s    eta 4s     "
     ]
    },
    {
     "name": "stdout",
     "output_type": "stream",
     "text": [
      "\rinput_public_data.z  96%[==================> ]  21.29M   274KB/s    eta 4s     "
     ]
    },
    {
     "name": "stdout",
     "output_type": "stream",
     "text": [
      "\rinput_public_data.z  96%[==================> ]  21.33M   270KB/s    eta 4s     "
     ]
    },
    {
     "name": "stdout",
     "output_type": "stream",
     "text": [
      "\rinput_public_data.z  96%[==================> ]  21.39M   270KB/s    eta 4s     "
     ]
    },
    {
     "name": "stdout",
     "output_type": "stream",
     "text": [
      "\rinput_public_data.z  97%[==================> ]  21.46M   270KB/s    eta 4s     "
     ]
    },
    {
     "name": "stdout",
     "output_type": "stream",
     "text": [
      "\rinput_public_data.z  97%[==================> ]  21.52M   270KB/s    eta 3s     "
     ]
    },
    {
     "name": "stdout",
     "output_type": "stream",
     "text": [
      "\rinput_public_data.z  97%[==================> ]  21.60M   273KB/s    eta 3s     "
     ]
    },
    {
     "name": "stdout",
     "output_type": "stream",
     "text": [
      "\rinput_public_data.z  98%[==================> ]  21.66M   270KB/s    eta 3s     "
     ]
    },
    {
     "name": "stdout",
     "output_type": "stream",
     "text": [
      "\rinput_public_data.z  98%[==================> ]  21.74M   273KB/s    eta 3s     "
     ]
    },
    {
     "name": "stdout",
     "output_type": "stream",
     "text": [
      "\rinput_public_data.z  98%[==================> ]  21.80M   269KB/s    eta 3s     "
     ]
    },
    {
     "name": "stdout",
     "output_type": "stream",
     "text": [
      "\rinput_public_data.z  99%[==================> ]  21.88M   270KB/s    eta 1s     "
     ]
    },
    {
     "name": "stdout",
     "output_type": "stream",
     "text": [
      "\rinput_public_data.z  99%[==================> ]  21.93M   263KB/s    eta 1s     "
     ]
    },
    {
     "name": "stdout",
     "output_type": "stream",
     "text": [
      "\rinput_public_data.z  99%[==================> ]  21.97M   256KB/s    eta 1s     "
     ]
    },
    {
     "name": "stdout",
     "output_type": "stream",
     "text": [
      "\rinput_public_data.z  99%[==================> ]  22.00M   245KB/s    eta 1s     "
     ]
    },
    {
     "name": "stdout",
     "output_type": "stream",
     "text": [
      "\rinput_public_data.z  99%[==================> ]  22.05M   249KB/s    eta 1s     "
     ]
    },
    {
     "name": "stdout",
     "output_type": "stream",
     "text": [
      "\rinput_public_data.z 100%[===================>]  22.09M   252KB/s    in 97s     \r\n",
      "\r\n",
      "2020-07-29 16:30:52 (232 KB/s) - ‘input_public_data.zip’ saved [23166579/23166579]\r\n",
      "\r\n"
     ]
    },
    {
     "name": "stdout",
     "output_type": "stream",
     "text": [
      "Archive:  input_public_data.zip\r\n",
      "  inflating: data_test.npz           "
     ]
    },
    {
     "name": "stdout",
     "output_type": "stream",
     "text": [
      "\r\n",
      "  inflating: data_train.npz          "
     ]
    },
    {
     "name": "stdout",
     "output_type": "stream",
     "text": [
      "\r\n"
     ]
    }
   ],
   "source": [
    "import os\n",
    "from pathlib import Path\n",
    "\n",
    "input_data_path = Path(os.environ.get('INPUT_DATA_PATH', '.'))\n",
    "output_data_path = Path(os.environ.get('OUTPUT_DATA_PATH', '.'))\n",
    "\n",
    "train_file = str(input_data_path / \"data_train.npz\")\n",
    "test_file = str(input_data_path / \"data_test.npz\")\n",
    "prediction_file = str(output_data_path / \"data_test_prediction.npz\")\n",
    "\n",
    "\n",
    "if not (os.path.isfile(train_file) and\n",
    "        os.path.isfile(test_file)):\n",
    "    if not os.path.isfile(\"input_public_data.zip\"):\n",
    "        !wget https://codalab.coresearch.club/my/datasets/download/37304c34-1d4a-4f43-bcb2-1fdeb37c5cba -O input_public_data.zip\n",
    "    !unzip -n input_public_data.zip"
   ]
  },
  {
   "cell_type": "code",
   "execution_count": 2,
   "metadata": {
    "colab": {
    },
    "colab_type": "code",
    "collapsed": false,
    "id": "PnwQTWoUuV1B"
   },
   "outputs": [
   ],
   "source": [
    "import numpy as np"
   ]
  },
  {
   "cell_type": "code",
   "execution_count": 3,
   "metadata": {
    "colab": {
    },
    "colab_type": "code",
    "collapsed": false,
    "id": "KVTLnfHsvH29"
   },
   "outputs": [
   ],
   "source": [
    "data_real = np.load(train_file, allow_pickle=True)\n",
    "\n",
    "# This is the calorimeter response:\n",
    "energy = data_real['EnergyDeposit']\n",
    "\n",
    "# These are the quantities we want to predict\n",
    "momentum = data_real['ParticleMomentum'][:,:2]\n",
    "coordinate = data_real['ParticlePoint'][:,:2]"
   ]
  },
  {
   "cell_type": "code",
   "execution_count": 4,
   "metadata": {
    "colab": {
     "base_uri": "https://localhost:8080/",
     "height": 68
    },
    "colab_type": "code",
    "collapsed": false,
    "id": "LxBkEZ-HGGkY",
    "outputId": "d8886772-a886-4934-e04a-05d9b96ef04e"
   },
   "outputs": [
    {
     "name": "stdout",
     "output_type": "stream",
     "text": [
      "energy.shape: (9916, 30, 30)\n",
      "momentum.shape: (9916, 2)\n",
      "coordinate.shape: (9916, 2)\n"
     ]
    }
   ],
   "source": [
    "print('energy.shape:', energy.shape)\n",
    "print('momentum.shape:', momentum.shape)\n",
    "print('coordinate.shape:', coordinate.shape)"
   ]
  },
  {
   "cell_type": "markdown",
   "metadata": {
    "colab_type": "text",
    "collapsed": false,
    "id": "KtNiLcfTKZAT"
   },
   "source": [
    "So, we have images of 30x30 pixels and we want to predict 4 numbers for each of them: x, y, px and py."
   ]
  },
  {
   "cell_type": "markdown",
   "metadata": {
    "colab_type": "text",
    "collapsed": false,
    "id": "7Z9d8ZfTKmkS"
   },
   "source": [
    "Let's have a look at some of the images"
   ]
  },
  {
   "cell_type": "code",
   "execution_count": 5,
   "metadata": {
    "colab": {
    },
    "colab_type": "code",
    "collapsed": false,
    "id": "qo0cQCrBFkhs"
   },
   "outputs": [
   ],
   "source": [
    "import matplotlib.pyplot as plt"
   ]
  },
  {
   "cell_type": "code",
   "execution_count": 6,
   "metadata": {
    "colab": {
     "base_uri": "https://localhost:8080/",
     "height": 430
    },
    "colab_type": "code",
    "collapsed": false,
    "id": "adq1QO8LFqYN",
    "outputId": "feb34f3e-3fcd-445c-86bc-171d87e438d8"
   },
   "outputs": [
    {
     "data": {
      "image/png": "[encoded data removed]",
      "text/plain": [
       "<Figure size 504x504 with 4 Axes>"
      ]
     },
     "execution_count": 6,
     "metadata": {
     },
     "output_type": "execute_result"
    }
   ],
   "source": [
    "plt.figure(figsize=(7, 7))\n",
    "plt.subplot(221)\n",
    "plt.imshow(energy[2])\n",
    "plt.subplot(222)\n",
    "plt.imshow(energy[20])\n",
    "plt.subplot(223)\n",
    "plt.imshow(energy[200])\n",
    "plt.subplot(224)\n",
    "plt.imshow(energy[2000]);"
   ]
  },
  {
   "cell_type": "markdown",
   "metadata": {
    "colab_type": "text",
    "collapsed": false,
    "id": "IXXwCOt1KvKN"
   },
   "source": [
    "It's also worth knowing how the targets are distributed:"
   ]
  },
  {
   "cell_type": "code",
   "execution_count": 7,
   "metadata": {
    "colab": {
     "base_uri": "https://localhost:8080/",
     "height": 265
    },
    "colab_type": "code",
    "collapsed": false,
    "id": "scFXIWjZwAFq",
    "outputId": "3ddc84f3-9764-4c35-bfdc-fb7dd4f05954"
   },
   "outputs": [
    {
     "data": {
      "image/png": "[encoded data removed]",
      "text/plain": [
       "<Figure size 432x288 with 1 Axes>"
      ]
     },
     "execution_count": 7,
     "metadata": {
     },
     "output_type": "execute_result"
    }
   ],
   "source": [
    "plt.scatter(*momentum.T, s=5);"
   ]
  },
  {
   "cell_type": "code",
   "execution_count": 8,
   "metadata": {
    "colab": {
     "base_uri": "https://localhost:8080/",
     "height": 265
    },
    "colab_type": "code",
    "collapsed": false,
    "id": "nIYBOK8HGAbW",
    "outputId": "5a5e05cd-4c84-4442-cfea-4d7835de08e1"
   },
   "outputs": [
    {
     "data": {
      "image/png": "[encoded data removed]",
      "text/plain": [
       "<Figure size 432x288 with 1 Axes>"
      ]
     },
     "execution_count": 8,
     "metadata": {
     },
     "output_type": "execute_result"
    }
   ],
   "source": [
    "plt.scatter(*coordinate.T, s=5);"
   ]
  },
  {
   "cell_type": "markdown",
   "metadata": {
    "colab_type": "text",
    "collapsed": false,
    "id": "uAeQH_sQK8IQ"
   },
   "source": [
    "Naive approach: can we predict the coordinates from the center of mass position of the calorimeter response?"
   ]
  },
  {
   "cell_type": "code",
   "execution_count": 9,
   "metadata": {
    "colab": {
     "base_uri": "https://localhost:8080/",
     "height": 211
    },
    "colab_type": "code",
    "collapsed": false,
    "id": "3mt3FiINGqXz",
    "outputId": "b5104903-df1c-42d7-d5dd-2774bd9658bb"
   },
   "outputs": [
    {
     "data": {
      "image/png": "[encoded data removed]",
      "text/plain": [
       "<Figure size 576x216 with 2 Axes>"
      ]
     },
     "execution_count": 9,
     "metadata": {
     },
     "output_type": "execute_result"
    }
   ],
   "source": [
    "energy_density = energy / energy.sum(axis=(1, 2), keepdims=True)\n",
    "\n",
    "cell_coords = np.stack([*np.meshgrid(\n",
    "    np.arange(energy.shape[1]),\n",
    "    np.arange(energy.shape[2])\n",
    ")], axis=-1)[None,...]\n",
    "\n",
    "center_of_mass = (energy_density[...,None] * cell_coords).sum(axis=(1, 2))\n",
    "\n",
    "plt.figure(figsize=(8, 3))\n",
    "plt.subplot(121)\n",
    "plt.scatter(coordinate[:,0], center_of_mass[:,0], s=5)\n",
    "plt.subplot(122)\n",
    "plt.scatter(coordinate[:,1], center_of_mass[:,1], s=5);"
   ]
  },
  {
   "cell_type": "markdown",
   "metadata": {
    "colab_type": "text",
    "collapsed": false,
    "id": "YUoqUZHCLf3i"
   },
   "source": [
    "Looks like the correlation isn't too strong. Maybe higher moments would give us a better picture, but we'll leave such experiments to you."
   ]
  },
  {
   "cell_type": "markdown",
   "metadata": {
    "colab_type": "text",
    "collapsed": false,
    "id": "rTLaOd8rNULd"
   },
   "source": [
    "# Example solution"
   ]
  },
  {
   "cell_type": "code",
   "execution_count": 10,
   "metadata": {
    "colab": {
    },
    "colab_type": "code",
    "collapsed": false,
    "id": "c7jiMXIHynma"
   },
   "outputs": [
   ],
   "source": [
    "import torch\n",
    "import torch.nn as nn\n",
    "import torch.nn.functional as F\n",
    "import torch.utils.data as utils\n",
    "import torch.optim as optim\n",
    "import torchvision\n",
    "\n",
    "from IPython.display import clear_output\n",
    "from tqdm.auto import tqdm\n",
    "\n",
    "from sklearn.model_selection import train_test_split"
   ]
  },
  {
   "cell_type": "code",
   "execution_count": 11,
   "metadata": {
    "colab": {
     "base_uri": "https://localhost:8080/",
     "height": 34
    },
    "colab_type": "code",
    "collapsed": false,
    "id": "ZBuDIFV-N-Vp",
    "outputId": "ac3e10a1-1a8a-4f1b-919c-08804970bbaf"
   },
   "outputs": [
    {
     "name": "stdout",
     "output_type": "stream",
     "text": [
      "(8924, 1, 30, 30) (8924, 4) (992, 1, 30, 30) (992, 4)\n"
     ]
    }
   ],
   "source": [
    "X = energy[:,None,...] # adding Channels dimension\n",
    "Y = np.concatenate([coordinate, momentum], axis=1)\n",
    "\n",
    "X_train, X_val, Y_train, Y_val = train_test_split(X, Y, test_size=0.1, random_state=42)\n",
    "print(X_train.shape, Y_train.shape, X_val.shape, Y_val.shape)"
   ]
  },
  {
   "cell_type": "code",
   "execution_count": 12,
   "metadata": {
    "colab": {
    },
    "colab_type": "code",
    "collapsed": false,
    "id": "E4fWo7mawEs5"
   },
   "outputs": [
   ],
   "source": [
    "def make_torch_dataset(X, Y, batch_size, shuffle=True):\n",
    "    X =torch.torch.tensor(X).float()\n",
    "    #X[:,2:4] /= 40.\n",
    "    Y = torch.tensor(Y).float()\n",
    "    ds = utils.TensorDataset(X, Y)\n",
    "    return torch.utils.data.DataLoader(\n",
    "        ds, batch_size=batch_size,\n",
    "        pin_memory=True, shuffle=shuffle\n",
    "    )\n",
    "\n",
    "BATCH_SIZE = 1024\n",
    "\n",
    "ds_train = make_torch_dataset(X_train, Y_train, BATCH_SIZE)\n",
    "ds_val = make_torch_dataset(X_val, Y_val, BATCH_SIZE, shuffle=False)"
   ]
  },
  {
   "cell_type": "markdown",
   "metadata": {
    "collapsed": false
   },
   "source": [
    "#### Attention Modules\n",
    "Attention is a concept from NLP, allowing e.g. a machine translation model to dynamically mask or up-weight\n",
    "parts of an input sequence. It works great in NLP (c.f. Transformer).\n",
    "Here we transfer this idea to (calorimeter-energy-deposit-)image processing, \n",
    "and allow the model to pick parts of channels, and channels, that it wants to focus on in a given example,\n",
    "based on the features in the sample.\n",
    "\n",
    "To make this concept useful, it is a good idea to give the model some freedom \n",
    "in computing the mask that determines the attention. \n",
    "The below model implements this by stacking fully connected dense layers to compute the key \n",
    "(we do not have a query, because the key already encapsulaates all directions along the image, unlike the seq-to-seq case).\n",
    "But it may be even more useful to stack some convolutional layers when computing the key, \n",
    "as convolutions can do everything dense layers can, but are cheaper to optimize and store."
   ]
  },
  {
   "cell_type": "code",
   "execution_count": 13,
   "metadata": {
    "collapsed": false
   },
   "outputs": [
   ],
   "source": [
    "class Attention2d(nn.Module):\n",
    "    \"\"\"\n",
    "    Straightforward attention using elementwise multiplication.\n",
    "    \"\"\"\n",
    "    def __init__(self, n_channels = 1):\n",
    "        super().__init__()\n",
    "        # softmax the spatial dimensions of query \n",
    "        self.querynorm = nn.Softmax2d()\n",
    "        # scale before softmax\n",
    "        self.scale = nn.Parameter(torch.rand(n_channels))\n",
    "        \n",
    "        \n",
    "    def forward(\n",
    "                self,\n",
    "                key,\n",
    "                values):\n",
    "        assert key.size() == values.size(),\\\n",
    "            f'shape mismatch between key (shape: {key.size()}) and values (shape: {values.size()})'\n",
    "\n",
    "        ks = key.size()\n",
    "        matchedscale = self.scale.unsqueeze(0).unsqueeze(2).unsqueeze(3).repeat(ks[0],1, ks[2], ks[3])\n",
    "        mask = self.querynorm( key *  matchedscale)\n",
    "        return values*mask\n",
    "    \n",
    "    \n",
    "class AttBlock2d(nn.Module):\n",
    "    \"\"\"\n",
    "    Attention calculating key using several dense layers.\n",
    "    \"\"\"\n",
    "    \n",
    "    def __init__(\n",
    "            self, \n",
    "            image_shape, # 2d dim tuple\n",
    "            n_channels, # image 'depth'\n",
    "            latent_size = None, # size of intermediate state vectors passed between dense layers (default: image size)\n",
    "            n_connected = 2): # number of dense layers \n",
    "        super().__init__()\n",
    "        self.n_channels  = n_channels\n",
    "        self.img_width, self.img_height = image_shape\n",
    "        if latent_size is None:\n",
    "            self.latent_size = self.flat_size\n",
    "        else:\n",
    "            self.latent_size = latent_size\n",
    "        \n",
    "        assert self.latent_size > 1, f'require at least 2 latent dimensions in between dense layers, got latent_size = {self.latent_size}'\n",
    "        assert n_connected > 0, f'require at least 1 dense layer, got n_connected = {n_connected}' \n",
    "        \n",
    "        dense_sizes = [[self.latent_size,self.latent_size] for _ in range(n_connected)]\n",
    "        dense_sizes[0][0] = self.flat_size # so we always use full image, and can use view to match sizes\n",
    "        dense_sizes[-1][1] = self.flat_size # so we can use view to resize into 2d image\n",
    "        \n",
    "        self.linear_layers = nn.ModuleList()\n",
    "        for insize, outsize in dense_sizes:\n",
    "            self.linear_layers.append(nn.Linear(insize, outsize))\n",
    "        \n",
    "        self.attention = Attention2d(self.n_channels)\n",
    "        \n",
    "    @property\n",
    "    def flat_size(self):\n",
    "        return self.n_channels * self.img_width * self.img_height\n",
    "    \n",
    "    def forward(self,x, key):\n",
    "        \n",
    "        key = self.get_dense_key(key)\n",
    "        return self.attention(key, x)\n",
    "        \n",
    "    def get_dense_key(self,x):\n",
    "        x = x.view(len(x), self.flat_size)\n",
    "        for linear in self.linear_layers:\n",
    "            x = F.relu(linear(x))\n",
    "        x = x.view(len(x), self.n_channels, self.img_width, self.img_height)\n",
    "        return x"
   ]
  },
  {
   "cell_type": "code",
   "execution_count": 15,
   "metadata": {
    "collapsed": false
   },
   "outputs": [
   ],
   "source": [
    "class AttentiveConv2d(nn.Module):\n",
    "    \"\"\"\n",
    "    Apply 2d convolution to  a values tensor and a keys tensor in tandem.\n",
    "    \n",
    "    Optionally, attention is applied to the input values, using a convolution of the keys.\n",
    "    \"\"\"\n",
    "    def __init__(\n",
    "            self, \n",
    "            in_channels, \n",
    "            out_channels, \n",
    "            kernel_size = 3, \n",
    "            activation = F.relu,\n",
    "            final = False, # do _not_ compute & pass on a convolved key image\n",
    "            attention = None): # attention arg. dict. Need to specifiy at least image_shape of inputs\n",
    "        super().__init__()\n",
    "        if kernel_size % 2 == 0:\n",
    "            raise NotImplementedError(f'No support for even kernel sizes (got kernel_size={kernel_size})')\n",
    "        conv_args = dict(\n",
    "                in_channels = in_channels,\n",
    "                out_channels = out_channels,\n",
    "                kernel_size = kernel_size)\n",
    "        self.valueConv = nn.Conv2d(**conv_args)\n",
    "        self.activation = activation\n",
    "        \n",
    "        if final and attention is None:\n",
    "            logging.warning(f'{type(self).__name__} with final == True and no attention is just a thin wrapper around torch.nn.Conv2d')\n",
    "        \n",
    "        if final:\n",
    "            self.keyConv = None \n",
    "        else:\n",
    "            self.keyConv = nn.Conv2d(**conv_args)\n",
    "        \n",
    "        if attention is not None:\n",
    "            att_args = dict(\n",
    "                    n_channels = in_channels)\n",
    "            att_args.update(attention)\n",
    "            self.attention = AttBlock2d(**att_args)\n",
    "            conv_args['out_channels'] = in_channels\n",
    "            conv_args['padding'] = (kernel_size - 1)//2 # padding such that image resolution is preserved\n",
    "            self.keyConvForAtt = nn.Conv2d(**conv_args)\n",
    "        else:\n",
    "            self.attention = None\n",
    "            self.keyConvForAtt = None\n",
    "            \n",
    "\n",
    "        \n",
    "    def forward(self, value, key):\n",
    "        if self.attention is not None:\n",
    "            attkey = self.activation(self.keyConvForAtt(key))\n",
    "            value = self.attention(value, attkey)\n",
    "        \n",
    "        value = self.activation(self.valueConv(value))\n",
    "        \n",
    "        if self.keyConv is None: # if final\n",
    "            return value\n",
    "        else:\n",
    "            return value, self.activation(self.keyConv(key))"
   ]
  },
  {
   "cell_type": "markdown",
   "metadata": {
    "collapsed": false
   },
   "source": [
    "#### Two-component regressor\n",
    "The momentum components and the impact coordinates have different units and different physical meaning.\n",
    "It thus makes sense to compute them in two seperate regressors, concatenating in the end.\n",
    "Thus each regressor is free to only focus on finding features relevant to its respective task.\n",
    "\n",
    "Note that the input images are very sparse, and the showers only a few pixels wide. \n",
    "Thus we stick to kernels of size 3x3, with no stride or dilation being applied, \n",
    "to make the most of the shape information we do get.\n",
    "\n",
    "##### Two-component regressor with momentum assistance\n",
    "When we train this two component regressor, it turns out that momentum features are easy to learn well, \n",
    "but learning coordinates seems to be harder, taking much longer to converge. \n",
    "\n",
    "Suspecting that it may be beneficial to know the particle momentum (including travel direction) \n",
    "when trying to determine its impact point, we determine momentum first. \n",
    "Then we assist the coordinate regressor by making it aware of the particle momentum.\n",
    "We also increase the number of channels pased between the first few layers, to accomodate the additional information.\n",
    "\n",
    "This works well and increases the  effective convergence rate for particle impact coordinates\n",
    "to be comparable to that of the momemntum components.\n",
    "However, it seems there is still more work to be done on coordinate regression,\n",
    "as the mean error on coordinates is still a bit larger than that on momenta.\n",
    "\n",
    "(at first I tried using stacked dense layers to combine momentum- and coordinate information, but this \n",
    "pessimized the resulting MSE every time when compared to raw concatenated inputs)"
   ]
  },
  {
   "cell_type": "code",
   "execution_count": 16,
   "metadata": {
    "colab": {
    },
    "colab_type": "code",
    "collapsed": false,
    "id": "tdlmdZrMywul"
   },
   "outputs": [
   ],
   "source": [
    "class ComponentPairRegressor(nn.Module):\n",
    "    def __init__(self, dropout = 0.1, assisted = False):\n",
    "        super().__init__()\n",
    "        \n",
    "        self.assisted = assisted\n",
    "        \n",
    "        self.conv1 = nn.Conv2d(\n",
    "                in_channels=3 if self.assisted else 1,\n",
    "                out_channels=5 if self.assisted else 3,\n",
    "                kernel_size=3) # out: 30 -3 +1 = 28\n",
    "        self.conv2 = nn.Conv2d(\n",
    "                in_channels=5 if self.assisted else 3,\n",
    "                out_channels=6 if self.assisted else 4,\n",
    "                kernel_size=3) # out: 28 -3 +1 = 26 \n",
    "        self.drop1 = nn.Dropout2d(p=dropout/24)\n",
    "        self.conv3 = nn.Conv2d(\n",
    "                in_channels=6 if self.assisted else 4 ,\n",
    "                out_channels=7 if self.assisted else 5,\n",
    "                kernel_size=3) # out: 26 -3 +1 = 24\n",
    "        self.pool1 = nn.MaxPool2d((2, 2)) # out: 24 /2 = 12\n",
    "        \n",
    "        self.conv4 = nn.Conv2d(\n",
    "                in_channels=7 if self.assisted else 5,\n",
    "                out_channels=9 if self.assisted else 8,\n",
    "                kernel_size=3) # out: 12 -3 + 1 = 10\n",
    "        self.drop2 = nn.Dropout2d(p=dropout/3)\n",
    "        self.conv5 = nn.Conv2d(\n",
    "                in_channels = 9 if self.assisted else 8,\n",
    "                out_channels = 10,\n",
    "                kernel_size = 3) #  out: 10 - 3 + 1 = 8\n",
    "        self.conv6 = nn.Conv2d(\n",
    "                in_channels = 10,\n",
    "                out_channels = 12,\n",
    "                kernel_size = 3) #  out: 8 - 3 + 1 = 6\n",
    "        self.pool2 = nn.MaxPool2d((3,3)) # out: 6/3 = 2\n",
    "        \n",
    "        self.attn = AttBlock2d(\n",
    "                n_channels= 12, \n",
    "                image_shape = (2,2),  \n",
    "                n_connected = 4)\n",
    "\n",
    "        self.drop3 = nn.Dropout(p = dropout)\n",
    "        self.fc1 = nn.Linear(2 * 2 * 12, 32)\n",
    "        self.fc2 = nn.Linear(32, 2)\n",
    "\n",
    "    def forward(self, x):\n",
    "        x = F.relu(self.conv1(x))\n",
    "        x = F.relu(self.conv2(x))\n",
    "        x = self.drop1(x)\n",
    "        x = F.relu(self.conv3(x))\n",
    "        x = self.pool1(x)\n",
    "        \n",
    "        x = F.relu(self.conv4(x))\n",
    "        x = self.drop2(x)\n",
    "        x = F.relu(self.conv5(x))\n",
    "        x = F.relu(self.conv6(x))\n",
    "        x = self.pool2(x)\n",
    "        \n",
    "        x = self.attn(x,x)\n",
    "\n",
    "        x = x.view(len(x), -1)\n",
    "        x = self.drop3(x)\n",
    "        x = F.relu(self.fc1(x))\n",
    "        return self.fc2(x)\n",
    "\n",
    "class Regressor(nn.Module):\n",
    "    def __init__(self, dropout = 0.5):\n",
    "        super().__init__()\n",
    "        self.coordinate_regressor = ComponentPairRegressor(assisted = True, dropout = dropout) \n",
    "        self.momentum_regressor = ComponentPairRegressor(dropout = dropout)\n",
    "        \n",
    "\n",
    "    def forward(self, x):\n",
    "        momentum  = self.momentum_regressor(x)\n",
    "        if self.coordinate_regressor.assisted:\n",
    "            assistance = momentum.unsqueeze(2)\n",
    "            assistance.unsqueeze_(3) # in-place\n",
    "            assistance = assistance.expand(-1, -1, x.size()[2], x.size()[3])\n",
    "            x = torch.cat((x,assistance), dim = 1)\n",
    "        coordinate  = self.coordinate_regressor(x)\n",
    "        x =  torch.cat((coordinate, momentum), dim = 1)\n",
    "        \n",
    "        return x\n",
    "        \n",
    "        "
   ]
  },
  {
   "cell_type": "code",
   "execution_count": 17,
   "metadata": {
    "colab": {
     "base_uri": "https://localhost:8080/",
     "height": 34
    },
    "colab_type": "code",
    "collapsed": false,
    "id": "MQbp_fgby8_d",
    "outputId": "30ef6c88-0b98-405a-fc87-dc782b39b767"
   },
   "outputs": [
    {
     "data": {
      "text/plain": [
       "device(type='cuda', index=0)"
      ]
     },
     "execution_count": 17,
     "metadata": {
     },
     "output_type": "execute_result"
    }
   ],
   "source": [
    "device = torch.device('cuda:0')\n",
    "device"
   ]
  },
  {
   "cell_type": "code",
   "execution_count": 18,
   "metadata": {
    "colab": {
    },
    "colab_type": "code",
    "collapsed": false,
    "id": "KSBfriTgy6OO"
   },
   "outputs": [
   ],
   "source": [
    "regressor = Regressor(dropout = 0.1).to(device)"
   ]
  },
  {
   "cell_type": "code",
   "execution_count": 19,
   "metadata": {
    "colab": {
    },
    "colab_type": "code",
    "collapsed": false,
    "id": "PFhD7tURzCQN"
   },
   "outputs": [
   ],
   "source": [
    "learning_rate = 3e-3\n",
    "\n",
    "opt = optim.Adam(regressor.parameters(),  lr=learning_rate )"
   ]
  },
  {
   "cell_type": "code",
   "execution_count": 20,
   "metadata": {
    "colab": {
    },
    "colab_type": "code",
    "collapsed": false,
    "id": "QYyOjzMizUYf"
   },
   "outputs": [
   ],
   "source": [
    "def metric_relative_mse(y_true, y_pred):\n",
    "    return (\n",
    "        (y_true - y_pred).pow(2).mean(dim=0) / y_true.pow(2).mean(dim=0)\n",
    "    )\n",
    "\n",
    "def metric_relative_mse_total(y_true, y_pred):\n",
    "    return metric_relative_mse(y_true, y_pred).sum()"
   ]
  },
  {
   "cell_type": "code",
   "execution_count": 21,
   "metadata": {
    "colab": {
    },
    "colab_type": "code",
    "collapsed": false,
    "id": "-q8L1r1FzgFh"
   },
   "outputs": [
   ],
   "source": [
    "# Disclaimer: this might not be the best loss function for this task.\n",
    "\n",
    "class RelMSELoss(nn.Module):\n",
    "    def __init__(self):\n",
    "        super().__init__()\n",
    "        self.mse = nn.MSELoss(reduction = 'none')\n",
    "    def forward(self, true, pred):\n",
    "        per_comp = self.mse(true, pred).mean(dim =0) / true.pow(2).mean(dim =0)\n",
    "        return (per_comp[0:2] + 100*per_comp[2:4]).sum()\n",
    "        \n",
    "        \n",
    "loss_fn = RelMSELoss().to(device)"
   ]
  },
  {
   "cell_type": "code",
   "execution_count": 22,
   "metadata": {
    "collapsed": false
   },
   "outputs": [
   ],
   "source": [
    "losses_train = []\n",
    "losses_val = []\n",
    "metrics_train = []\n",
    "metrics_val = []\n",
    "per_component_metrics_train = []\n",
    "per_intcomp_metrics_train = []\n",
    "per_component_metrics_val = []\n",
    "per_intcomp_metrics_val = []"
   ]
  },
  {
   "cell_type": "code",
   "execution_count": 30,
   "metadata": {
    "colab": {
    },
    "colab_type": "code",
    "collapsed": false,
    "id": "KaDRrfUezvkr"
   },
   "outputs": [
   ],
   "source": [
    "def freeze_weights(model,flipped = False):\n",
    "    for p in model.parameters():\n",
    "        p.requires_grad = flipped\n",
    "\n",
    "def  unfreeze_weights(model):\n",
    "    freeze_weights(model, flipped = True)\n",
    "\n",
    "def run_training(epochs=50):\n",
    "\n",
    "    for epoch in tqdm(range(epochs)):\n",
    "        for batch_X, batch_Y in ds_train:\n",
    "                batch_X, batch_Y = batch_X.to(device), batch_Y.to(device)\n",
    "            \n",
    "                pred = regressor(batch_X)\n",
    "                loss = loss_fn(batch_Y, pred)\n",
    "\n",
    "                opt.zero_grad()\n",
    "                loss.backward()\n",
    "                opt.step()\n",
    "\n",
    "                losses_train.append(loss.item())\n",
    "                metrics_train.append(\n",
    "                    metric_relative_mse_total(batch_Y, pred).item()\n",
    "                )\n",
    "\n",
    "                per_component_metrics_train.append(\n",
    "                    metric_relative_mse(batch_Y, pred).detach().cpu().numpy()\n",
    "                )\n",
    "\n",
    "        avg_loss, avg_metrics, avg_per_component_metrics = [], [], []\n",
    "        regressor.eval()\n",
    "        for batch_X, batch_Y in ds_val:\n",
    "                batch_X, batch_Y = batch_X.to(device), batch_Y.to(device)\n",
    "                pred = regressor(batch_X)\n",
    "                loss = loss_fn(batch_Y, pred)\n",
    "\n",
    "                avg_loss.append(loss.item())\n",
    "                avg_metrics.append(\n",
    "                    metric_relative_mse_total(batch_Y, pred).item()\n",
    "                )\n",
    "                avg_per_component_metrics.append(\n",
    "                    metric_relative_mse(batch_Y, pred).detach().cpu().numpy())\n",
    "        regressor.train()\n",
    "        losses_val.append(np.mean(avg_loss))\n",
    "        metrics_val.append(np.mean(avg_metrics))\n",
    "        per_component_metrics_val.append(\n",
    "            np.mean(avg_per_component_metrics, axis=0)\n",
    "        )\n",
    "def plot_training(yscale = 'log'):\n",
    "        \n",
    "    \n",
    "        plt.figure(figsize=(18, 4.5))\n",
    "\n",
    "        plt.subplot(131)\n",
    "\n",
    "        plt.title(\"Loss\")\n",
    "        plt.plot(losses_train, label='train')\n",
    "        plt.plot(\n",
    "            np.linspace(0, len(losses_train), len(losses_val), endpoint=False),\n",
    "            losses_val, label='val'\n",
    "        )\n",
    "        plt.legend()\n",
    "        plt.gca().set_yscale(yscale)\n",
    "        plt.subplot(132)\n",
    "\n",
    "        plt.title(\"Metric (per component)\")\n",
    "        ms_train = np.array(per_component_metrics_train).T\n",
    "        ms_val = np.array(per_component_metrics_val).T\n",
    "        for i, (m_train, m_val, color) in enumerate(zip(ms_train,\n",
    "                                                        ms_val,\n",
    "                                                        plt.rcParams['axes.prop_cycle'])):\n",
    "            plt.plot(m_train, label=f'train (component {i})', c=color['color'])\n",
    "            plt.plot(\n",
    "                np.linspace(0, len(m_train), len(m_val), endpoint=False),\n",
    "                m_val, '--', label=f'val (component {i})', c=color['color']\n",
    "            )\n",
    "        plt.legend()\n",
    "        \n",
    "        \n",
    "        plt.subplot(133)\n",
    "\n",
    "        plt.title(\"Metric (total)\")\n",
    "        plt.plot(metrics_train, label='train')\n",
    "        plt.plot(\n",
    "            np.linspace(0, len(metrics_train), len(metrics_val), endpoint=False),\n",
    "            metrics_val, label='val'\n",
    "        )\n",
    "        plt.gca().set_yscale(yscale)\n",
    "        plt.legend()\n",
    "        plt.show()"
   ]
  },
  {
   "cell_type": "code",
   "execution_count": 33,
   "metadata": {
    "colab": {
     "base_uri": "https://localhost:8080/",
     "height": 274
    },
    "colab_type": "code",
    "collapsed": false,
    "id": "K7WO5pPCzzdk",
    "outputId": "953da882-8ce2-480e-b527-e179705f2abe"
   },
   "outputs": [
    {
     "data": {
      "application/vnd.jupyter.widget-view+json": {
       "model_id": "72b4a83bf5b04d27bcc51b17bc16f2c9",
       "version_major": 2,
       "version_minor": 0
      },
      "text/plain": [
       "HBox(children=(FloatProgress(value=0.0, max=180.0), HTML(value='')))"
      ]
     },
     "execution_count": 33,
     "metadata": {
     },
     "output_type": "execute_result"
    },
    {
     "name": "stdout",
     "output_type": "stream",
     "text": [
      "\n"
     ]
    },
    {
     "data": {
      "image/png": "[encoded data removed]",
      "text/plain": [
       "<Figure size 1296x324 with 3 Axes>"
      ]
     },
     "execution_count": 33,
     "metadata": {
     },
     "output_type": "execute_result"
    }
   ],
   "source": [
    "clear_output()\n",
    "run_training(180) # 1000 total\n",
    "plot_training('linear')"
   ]
  },
  {
   "cell_type": "code",
   "execution_count": 34,
   "metadata": {
    "collapsed": false
   },
   "outputs": [
    {
     "name": "stdout",
     "output_type": "stream",
     "text": [
      "0.30168225318193437\n"
     ]
    }
   ],
   "source": [
    "print(np.mean(metrics_val[-20:]))"
   ]
  },
  {
   "cell_type": "markdown",
   "metadata": {
    "collapsed": false
   },
   "source": [
    "## Current Working Hypothesis\n",
    "\n",
    "The models converge quickly, then start to overtrain , but the validation error stays flat.\n",
    "So perhaps the limit is model capacity, and more layers will help?\n",
    "\n",
    "**ideas**\n",
    "* multiple attention steps, throughout the regressor stack\n",
    "* attention being applied to previous inputs?\n",
    "* replace pooling layers by even more convolutions?"
   ]
  },
  {
   "cell_type": "code",
   "execution_count": 35,
   "metadata": {
    "colab": {
    },
    "colab_type": "code",
    "collapsed": false,
    "id": "5bN3HPY10DAV"
   },
   "outputs": [
   ],
   "source": [
    "data_test = np.load(test_file, allow_pickle=True)\n",
    "X_test = data_test['EnergyDeposit'][:,None,...]"
   ]
  },
  {
   "cell_type": "code",
   "execution_count": 36,
   "metadata": {
    "colab": {
    },
    "colab_type": "code",
    "collapsed": false,
    "id": "uEUeTOuI120h"
   },
   "outputs": [
    {
     "data": {
      "text/plain": [
       "Regressor(\n",
       "  (coordinate_regressor): ComponentPairRegressor(\n",
       "    (conv1): Conv2d(3, 5, kernel_size=(3, 3), stride=(1, 1))\n",
       "    (conv2): Conv2d(5, 6, kernel_size=(3, 3), stride=(1, 1))\n",
       "    (drop1): Dropout2d(p=0.004166666666666667, inplace=False)\n",
       "    (conv3): Conv2d(6, 7, kernel_size=(3, 3), stride=(1, 1))\n",
       "    (pool1): MaxPool2d(kernel_size=(2, 2), stride=(2, 2), padding=0, dilation=1, ceil_mode=False)\n",
       "    (conv4): Conv2d(7, 9, kernel_size=(3, 3), stride=(1, 1))\n",
       "    (drop2): Dropout2d(p=0.03333333333333333, inplace=False)\n",
       "    (conv5): Conv2d(9, 10, kernel_size=(3, 3), stride=(1, 1))\n",
       "    (conv6): Conv2d(10, 12, kernel_size=(3, 3), stride=(1, 1))\n",
       "    (pool2): MaxPool2d(kernel_size=(3, 3), stride=(3, 3), padding=0, dilation=1, ceil_mode=False)\n",
       "    (attn): AttBlock2d(\n",
       "      (linear_layers): ModuleList(\n",
       "        (0): Linear(in_features=48, out_features=48, bias=True)\n",
       "        (1): Linear(in_features=48, out_features=48, bias=True)\n",
       "        (2): Linear(in_features=48, out_features=48, bias=True)\n",
       "        (3): Linear(in_features=48, out_features=48, bias=True)\n",
       "      )\n",
       "      (attention): Attention2d(\n",
       "        (querynorm): Softmax2d()\n",
       "      )\n",
       "    )\n",
       "    (drop3): Dropout(p=0.1, inplace=False)\n",
       "    (fc1): Linear(in_features=48, out_features=32, bias=True)\n",
       "    (fc2): Linear(in_features=32, out_features=2, bias=True)\n",
       "  )\n",
       "  (momentum_regressor): ComponentPairRegressor(\n",
       "    (conv1): Conv2d(1, 3, kernel_size=(3, 3), stride=(1, 1))\n",
       "    (conv2): Conv2d(3, 4, kernel_size=(3, 3), stride=(1, 1))\n",
       "    (drop1): Dropout2d(p=0.004166666666666667, inplace=False)\n",
       "    (conv3): Conv2d(4, 5, kernel_size=(3, 3), stride=(1, 1))\n",
       "    (pool1): MaxPool2d(kernel_size=(2, 2), stride=(2, 2), padding=0, dilation=1, ceil_mode=False)\n",
       "    (conv4): Conv2d(5, 8, kernel_size=(3, 3), stride=(1, 1))\n",
       "    (drop2): Dropout2d(p=0.03333333333333333, inplace=False)\n",
       "    (conv5): Conv2d(8, 10, kernel_size=(3, 3), stride=(1, 1))\n",
       "    (conv6): Conv2d(10, 12, kernel_size=(3, 3), stride=(1, 1))\n",
       "    (pool2): MaxPool2d(kernel_size=(3, 3), stride=(3, 3), padding=0, dilation=1, ceil_mode=False)\n",
       "    (attn): AttBlock2d(\n",
       "      (linear_layers): ModuleList(\n",
       "        (0): Linear(in_features=48, out_features=48, bias=True)\n",
       "        (1): Linear(in_features=48, out_features=48, bias=True)\n",
       "        (2): Linear(in_features=48, out_features=48, bias=True)\n",
       "        (3): Linear(in_features=48, out_features=48, bias=True)\n",
       "      )\n",
       "      (attention): Attention2d(\n",
       "        (querynorm): Softmax2d()\n",
       "      )\n",
       "    )\n",
       "    (drop3): Dropout(p=0.1, inplace=False)\n",
       "    (fc1): Linear(in_features=48, out_features=32, bias=True)\n",
       "    (fc2): Linear(in_features=32, out_features=2, bias=True)\n",
       "  )\n",
       ")"
      ]
     },
     "execution_count": 36,
     "metadata": {
     },
     "output_type": "execute_result"
    }
   ],
   "source": [
    "regressor.eval()\n",
    "prediction_test = regressor(torch.tensor(X_test, device=device).float()).cpu()\n",
    "regressor.train()"
   ]
  },
  {
   "cell_type": "code",
   "execution_count": 37,
   "metadata": {
    "colab": {
    },
    "colab_type": "code",
    "collapsed": false,
    "id": "jKDDvcBr1-Sa"
   },
   "outputs": [
   ],
   "source": [
    "coordinate_test, momentum_test = (\n",
    "    prediction_test.detach().numpy()[:, :2],\n",
    "    prediction_test.detach().numpy()[:, 2:],\n",
    ")"
   ]
  },
  {
   "cell_type": "code",
   "execution_count": 38,
   "metadata": {
    "colab": {
    },
    "colab_type": "code",
    "collapsed": false,
    "id": "QUGKOcHl2HMj"
   },
   "outputs": [
   ],
   "source": [
    "np.savez_compressed(prediction_file,\n",
    "                    ParticlePoint=coordinate_test,\n",
    "                    ParticleMomentum=momentum_test)"
   ]
  },
  {
   "cell_type": "code",
   "execution_count": 26,
   "metadata": {
    "colab": {
    },
    "colab_type": "code",
    "collapsed": false,
    "id": "JNs5peky2MRc"
   },
   "outputs": [
   ],
   "source": [
    "def scoring_function(solution_file, predict_file):\n",
    "    score = 0.\n",
    "    \n",
    "    solution = np.load(solution_file, allow_pickle=True)\n",
    "    predict = np.load(predict_file, allow_pickle=True)\n",
    "    ParticleMomentum_sol = solution['ParticleMomentum'][:, :2]\n",
    "    ParticlePoint_sol = solution['ParticlePoint'][:, :2]\n",
    "    \n",
    "    ParticleMomentum_pred = predict['ParticleMomentum'][:, :2]\n",
    "    ParticlePoint_pred = predict['ParticlePoint'][:, :2]\n",
    "    \n",
    "    score += np.sum(np.square(ParticleMomentum_sol - ParticleMomentum_pred).mean(axis=0) / np.square(ParticleMomentum_sol).mean(axis=0))\n",
    "    score += np.sum(np.square(ParticlePoint_sol - ParticlePoint_pred).mean(axis=0) / np.square(ParticlePoint_sol).mean(axis=0))\n",
    "    return score"
   ]
  },
  {
   "cell_type": "code",
   "execution_count": 0,
   "metadata": {
    "collapsed": false
   },
   "outputs": [
   ],
   "source": [
   ]
  }
 ],
 "metadata": {
  "accelerator": "GPU",
  "colab": {
   "name": "CompetitionStartingKit.ipynb",
   "provenance": [
   ]
  },
  "kernelspec": {
   "display_name": "Python 3",
   "language": "python",
   "name": "python3"
  },
  "language_info": {
   "codemirror_mode": {
    "name": "ipython",
    "version": 3
   },
   "file_extension": ".py",
   "mimetype": "text/x-python",
   "name": "python",
   "nbconvert_exporter": "python",
   "pygments_lexer": "ipython3",
   "version": "3.6.9"
  }
 },
 "nbformat": 4,
 "nbformat_minor": 4
}